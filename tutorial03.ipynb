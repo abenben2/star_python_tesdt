{
  "nbformat": 4,
  "nbformat_minor": 0,
  "metadata": {
    "colab": {
      "name": "tutorial03.ipynb",
      "provenance": [],
      "private_outputs": true,
      "toc_visible": true,
      "authorship_tag": "ABX9TyMk+IDG/XfJ9V617k2+OJGy",
      "include_colab_link": true
    },
    "kernelspec": {
      "name": "python3",
      "display_name": "Python 3"
    }
  },
  "cells": [
    {
      "cell_type": "markdown",
      "metadata": {
        "id": "view-in-github",
        "colab_type": "text"
      },
      "source": [
        "<a href=\"https://colab.research.google.com/github/abenben2/star_python_tesdt/blob/master/tutorial03.ipynb\" target=\"_parent\"><img src=\"https://colab.research.google.com/assets/colab-badge.svg\" alt=\"Open In Colab\"/></a>"
      ]
    },
    {
      "cell_type": "markdown",
      "metadata": {
        "id": "PTzT7GYvUzfY",
        "colab_type": "text"
      },
      "source": [
        " # 前回の復習\n",
        "\n",
        "基本的なデータの種類を理解しよう。\n",
        "\n",
        "前回の復習を兼ねてデータの種類についておさらいをしまよう。"
      ]
    },
    {
      "cell_type": "markdown",
      "metadata": {
        "id": "m4B26pWG5vWJ",
        "colab_type": "text"
      },
      "source": [
        "# 3. Pythonのデータ型（基本編）\n",
        "\n",
        "代表的なPythonのデータ型と、便利な使い方を紹介します。\n",
        "\n",
        "それぞれのデータ型の紹介で、「これだけは知っておくとよいよ」という機能を挙げます。"
      ]
    },
    {
      "cell_type": "markdown",
      "metadata": {
        "id": "Gt_QBaC56T60",
        "colab_type": "text"
      },
      "source": [
        "## 3.1. はじめに\n",
        "\n",
        "本節では整数型（int）、浮動小数点型（float）、文字列型（str）を扱います。\n",
        "\n",
        "データ型については、Pythonの公式ドキュメントも参考にしてください。\n",
        "\n",
        "組み込み型 https://docs.python.org/ja/3/library/stdtypes.html"
      ]
    },
    {
      "cell_type": "markdown",
      "metadata": {
        "id": "rV-tmVF86ZEw",
        "colab_type": "text"
      },
      "source": [
        "## 3.2. 整数型（int）\n",
        "\n",
        "整数を扱うには、整数型（int）を使います。\n",
        "\n",
        "主な演算子には、前節で説明した四則演算（+、-、*、/）と剰余（%）の他に、累乗（**）があります"
      ]
    },
    {
      "cell_type": "markdown",
      "metadata": {
        "id": "7VyR4T8W6im1",
        "colab_type": "text"
      },
      "source": [
        "### 整数型\n",
        "```\n",
        "▶ 2+1\n",
        "4\n",
        "```\n",
        "（コードを書いて実際に動かしてみよう）"
      ]
    },
    {
      "cell_type": "code",
      "metadata": {
        "id": "QES1p2__7Y9Z",
        "colab_type": "code",
        "colab": {}
      },
      "source": [
        ""
      ],
      "execution_count": null,
      "outputs": []
    },
    {
      "cell_type": "markdown",
      "metadata": {
        "id": "I5VUv4wU86h8",
        "colab_type": "text"
      },
      "source": [
        "```\n",
        "▶ 3 - 8\n",
        "-5\n",
        "```\n",
        "（コードを書いて実際に動かしてみよう）"
      ]
    },
    {
      "cell_type": "code",
      "metadata": {
        "id": "HsGYN_r59aUt",
        "colab_type": "code",
        "colab": {}
      },
      "source": [
        ""
      ],
      "execution_count": null,
      "outputs": []
    },
    {
      "cell_type": "markdown",
      "metadata": {
        "id": "OYnrH6hm88jg",
        "colab_type": "text"
      },
      "source": [
        "```\n",
        "▶ 6 * 9\n",
        "54\n",
        "```\n",
        "（コードを書いて実際に動かしてみよう）"
      ]
    },
    {
      "cell_type": "code",
      "metadata": {
        "id": "_ohnH0eh9bpJ",
        "colab_type": "code",
        "colab": {}
      },
      "source": [
        ""
      ],
      "execution_count": null,
      "outputs": []
    },
    {
      "cell_type": "markdown",
      "metadata": {
        "id": "Nzamj1Iw89y9",
        "colab_type": "text"
      },
      "source": [
        "```\n",
        "▶ 8 / 2\n",
        "4.0\n",
        "```\n",
        "（コードを書いて実際に動かしてみよう）"
      ]
    },
    {
      "cell_type": "code",
      "metadata": {
        "id": "USzibrzK9caC",
        "colab_type": "code",
        "colab": {}
      },
      "source": [
        ""
      ],
      "execution_count": null,
      "outputs": []
    },
    {
      "cell_type": "markdown",
      "metadata": {
        "id": "Lmn75VrO8-sp",
        "colab_type": "text"
      },
      "source": [
        "```\n",
        "▶ 5 % 2\n",
        "1\n",
        "```\n",
        "（コードを書いて実際に動かしてみよう）"
      ]
    },
    {
      "cell_type": "code",
      "metadata": {
        "id": "j9E8w1PQ9dHc",
        "colab_type": "code",
        "colab": {}
      },
      "source": [
        ""
      ],
      "execution_count": null,
      "outputs": []
    },
    {
      "cell_type": "markdown",
      "metadata": {
        "id": "xhtDJdzx9ENx",
        "colab_type": "text"
      },
      "source": [
        "```\n",
        "▶ 5 ** 2\n",
        "25\n",
        "```\n",
        "（コードを書いて実際に動かしてみよう）"
      ]
    },
    {
      "cell_type": "code",
      "metadata": {
        "id": "Qx6jE6SE9d51",
        "colab_type": "code",
        "colab": {}
      },
      "source": [
        ""
      ],
      "execution_count": null,
      "outputs": []
    },
    {
      "cell_type": "markdown",
      "metadata": {
        "id": "CbUKyu1z-SfQ",
        "colab_type": "text"
      },
      "source": [
        "### 整数型同士の商\n",
        "\n",
        "割り算の結果は小数点以下も出力されます"
      ]
    },
    {
      "cell_type": "markdown",
      "metadata": {
        "id": "5F5rabe9-i39",
        "colab_type": "text"
      },
      "source": [
        "```\n",
        "▶ 10 / 3\n",
        "3.3333333333333335\n",
        "```\n",
        "（コードを書いて実際に動かしてみよう）"
      ]
    },
    {
      "cell_type": "code",
      "metadata": {
        "id": "oEmK5pHE-5Pl",
        "colab_type": "code",
        "colab": {}
      },
      "source": [
        ""
      ],
      "execution_count": null,
      "outputs": []
    },
    {
      "cell_type": "markdown",
      "metadata": {
        "id": "Wj1X5sQI-j1h",
        "colab_type": "text"
      },
      "source": [
        "```\n",
        "▶ 10 / 4\n",
        "2.5\n",
        "```\n",
        "（コードを書いて実際に動かしてみよう）"
      ]
    },
    {
      "cell_type": "code",
      "metadata": {
        "id": "bZzQ-blS-6Ac",
        "colab_type": "code",
        "colab": {}
      },
      "source": [
        ""
      ],
      "execution_count": null,
      "outputs": []
    },
    {
      "cell_type": "markdown",
      "metadata": {
        "id": "dw-0aAbZ-kW4",
        "colab_type": "text"
      },
      "source": [
        "```\n",
        "▶ -10 / 4\n",
        "-2.5\n",
        "```\n",
        "（コードを書いて実際に動かしてみよう）"
      ]
    },
    {
      "cell_type": "code",
      "metadata": {
        "id": "bl-ePUIh-61q",
        "colab_type": "code",
        "colab": {}
      },
      "source": [
        ""
      ],
      "execution_count": null,
      "outputs": []
    },
    {
      "cell_type": "markdown",
      "metadata": {
        "id": "8hm-bEp7_sPZ",
        "colab_type": "text"
      },
      "source": [
        "### //での割り算\n",
        "\n",
        "割り算の結果を整数で取得したい場合は // 演算子を使用します。 その場合は、小数点以下は切り捨てられます。"
      ]
    },
    {
      "cell_type": "markdown",
      "metadata": {
        "id": "v6WJeQGV_3vz",
        "colab_type": "text"
      },
      "source": [
        "```\n",
        "▶ 10 // 3\n",
        "3\n",
        "```\n",
        "（コードを書いて実際に動かしてみよう）"
      ]
    },
    {
      "cell_type": "code",
      "metadata": {
        "id": "0Hmurp24_4Va",
        "colab_type": "code",
        "colab": {}
      },
      "source": [
        ""
      ],
      "execution_count": null,
      "outputs": []
    },
    {
      "cell_type": "markdown",
      "metadata": {
        "id": "-YH0Q_DS_5Gl",
        "colab_type": "text"
      },
      "source": [
        "```\n",
        "▶ 10 // 4\n",
        "2\n",
        "```\n",
        "（コードを書いて実際に動かしてみよう）"
      ]
    },
    {
      "cell_type": "code",
      "metadata": {
        "id": "324Os6aF_5oD",
        "colab_type": "code",
        "colab": {}
      },
      "source": [
        ""
      ],
      "execution_count": null,
      "outputs": []
    },
    {
      "cell_type": "markdown",
      "metadata": {
        "id": "cbct40Q6_5wb",
        "colab_type": "text"
      },
      "source": [
        "```\n",
        "▶ -10 // 4\n",
        "-3\n",
        "```\n",
        "（コードを書いて実際に動かしてみよう）"
      ]
    },
    {
      "cell_type": "code",
      "metadata": {
        "id": "QuNHPH8O_6LI",
        "colab_type": "code",
        "colab": {}
      },
      "source": [
        ""
      ],
      "execution_count": null,
      "outputs": []
    },
    {
      "cell_type": "markdown",
      "metadata": {
        "id": "aoc-AEe-Aekb",
        "colab_type": "text"
      },
      "source": [
        "## 3.3. 浮動小数点型（float）"
      ]
    },
    {
      "cell_type": "markdown",
      "metadata": {
        "id": "BpNUxSE7Amd_",
        "colab_type": "text"
      },
      "source": [
        "### 浮動小数点の計算\n",
        "\n",
        "小数を扱うには浮動小数点型（float）を使います。\n",
        "\n",
        "整数型と同様の演算子が使えます。\n",
        "\n",
        "浮動小数点型と整数型との計算は浮動小数点型を返します。"
      ]
    },
    {
      "cell_type": "markdown",
      "metadata": {
        "id": "FzOryLuBA1Uo",
        "colab_type": "text"
      },
      "source": [
        "```\n",
        "▶ 5.0\n",
        "5.0\n",
        "```\n",
        "（コードを書いて実際に動かしてみよう）"
      ]
    },
    {
      "cell_type": "code",
      "metadata": {
        "id": "Siig2SqrA3ff",
        "colab_type": "code",
        "colab": {}
      },
      "source": [
        ""
      ],
      "execution_count": null,
      "outputs": []
    },
    {
      "cell_type": "markdown",
      "metadata": {
        "id": "PWb8RwDBA3oF",
        "colab_type": "text"
      },
      "source": [
        "```\n",
        "▶ 5.0 + 5.2\n",
        "10.2\n",
        "```\n",
        "（コードを書いて実際に動かしてみよう）"
      ]
    },
    {
      "cell_type": "code",
      "metadata": {
        "id": "RHvY5tLdA4nh",
        "colab_type": "code",
        "colab": {}
      },
      "source": [
        "\n"
      ],
      "execution_count": null,
      "outputs": []
    },
    {
      "cell_type": "markdown",
      "metadata": {
        "id": "94fri8D1A4wh",
        "colab_type": "text"
      },
      "source": [
        "```\n",
        "▶ 10.2 + 8\n",
        "18.2\n",
        "```\n",
        "（コードを書いて実際に動かしてみよう）"
      ]
    },
    {
      "cell_type": "code",
      "metadata": {
        "id": "SA267pnFA5QG",
        "colab_type": "code",
        "colab": {}
      },
      "source": [
        ""
      ],
      "execution_count": null,
      "outputs": []
    },
    {
      "cell_type": "markdown",
      "metadata": {
        "id": "W8xcQ8KlBjkL",
        "colab_type": "text"
      },
      "source": [
        "## 3.4. 文字列型（str）\n",
        "\n",
        "文字列を使うには文字列型（str）を使います。\n",
        "シングルクォート（'）かダブルクォート（\"）の間に文字を入力します。 シングルクォート、ダブルクォートのどちらで書いても機能的な違いはありません。\n",
        "```\n",
        "▶ 'Hello,world'\n",
        "'Hello,world'\n",
        "▶ \"Hello,world\"\n",
        "'Hello,world'\n",
        "```"
      ]
    },
    {
      "cell_type": "markdown",
      "metadata": {
        "id": "cncGiaG2CWnC",
        "colab_type": "text"
      },
      "source": [
        "### 3.4.1. 文字のエスケープ\n",
        "\n",
        "文字列中にクォート文字やその他の特殊な文字を含めたい場合は、バックスラッシュ（\\）でエスケープします。\n",
        "\n",
        "たとえば、シングルクォートで囲まれた文字列中では、シングルクォートを \\' と書き、改行文字を \\n と書きます"
      ]
    },
    {
      "cell_type": "markdown",
      "metadata": {
        "id": "O4TfgROSCmZQ",
        "colab_type": "text"
      },
      "source": [
        "```\n",
        "▶ print('I\\'m Kazuya')\n",
        "I'm Kazuya Kazuya\n",
        "```\n",
        "（コードを書いて実際に動かしてみよう）"
      ]
    },
    {
      "cell_type": "code",
      "metadata": {
        "id": "N5DDMCycCm2P",
        "colab_type": "code",
        "colab": {}
      },
      "source": [
        ""
      ],
      "execution_count": null,
      "outputs": []
    },
    {
      "cell_type": "markdown",
      "metadata": {
        "id": "zK1bTBOlCow1",
        "colab_type": "text"
      },
      "source": [
        "```\n",
        "▶ print('Hello\\nworld')\n",
        "Hello\n",
        "world\n",
        "```\n",
        "（コードを書いて実際に動かしてみよう）"
      ]
    },
    {
      "cell_type": "code",
      "metadata": {
        "id": "El8Xhwy0Cpct",
        "colab_type": "code",
        "colab": {}
      },
      "source": [
        ""
      ],
      "execution_count": null,
      "outputs": []
    },
    {
      "cell_type": "markdown",
      "metadata": {
        "id": "J2KPBMnoGuFe",
        "colab_type": "text"
      },
      "source": [
        "**シングルクォートを含む文字列について**\n",
        "\n",
        "文字列がシングルクォートを含み、ダブルクォートを含まない場合は、ダブルクォートで囲むと見やすいです。\n",
        "\n",
        "```\n",
        "▶ print(\"I'm Kazuya\")\n",
        "I'm Kazuya\n",
        "```\n",
        "（コードを書いて実際に動かしてみよう）"
      ]
    },
    {
      "cell_type": "code",
      "metadata": {
        "id": "9emFwKflHBDS",
        "colab_type": "code",
        "colab": {}
      },
      "source": [
        ""
      ],
      "execution_count": null,
      "outputs": []
    },
    {
      "cell_type": "markdown",
      "metadata": {
        "id": "keG268mDHGfN",
        "colab_type": "text"
      },
      "source": [
        "### 3.4.2. 三重クォート\n",
        "\n",
        "改行を含む文字列を一度に定義するには、三重クォート（クォート文字3つ）で文字列を囲みます。\n",
        "\n",
        "シングルクォートの場合は ''' 、ダブルクォートの場合は \"\"\" です\n",
        "\n",
        "```\n",
        "▶ \"\"\" foo\n",
        "▶ bar\n",
        "▶ baz\n",
        "▶ \"\"\"\n",
        "' foo\\nbar\\nbaz\\n'\n",
        "```\n",
        "（コードを書いて実際に動かしてみよう）"
      ]
    },
    {
      "cell_type": "code",
      "metadata": {
        "id": "jzpT1eNVHZFX",
        "colab_type": "code",
        "colab": {}
      },
      "source": [
        ""
      ],
      "execution_count": null,
      "outputs": []
    },
    {
      "cell_type": "markdown",
      "metadata": {
        "id": "IyMHjJynIHNQ",
        "colab_type": "text"
      },
      "source": [
        "### 3.4.3. 文字列の結合と繰り返し\n",
        "\n",
        "文字列型同士を結合するには、プラス記号（+）を使います。\n",
        "\n",
        "アスタリスク（*）を使って繰り返した文字列を取得できます。\n",
        "\n",
        "アスタリスクの左に繰り返したい文字列を、右に繰り返し回数を整数型で指定します"
      ]
    },
    {
      "cell_type": "markdown",
      "metadata": {
        "id": "gHOQnNxxIQLX",
        "colab_type": "text"
      },
      "source": [
        "文字列の結合\n",
        "```\n",
        "▶ 'Mt.' + 'Fuji'\n",
        "'Mt.Fuji'\n",
        "```\n",
        "（コードを書いて実際に動かしてみよう）"
      ]
    },
    {
      "cell_type": "code",
      "metadata": {
        "id": "riXgmaaNIQ3n",
        "colab_type": "code",
        "colab": {}
      },
      "source": [
        ""
      ],
      "execution_count": null,
      "outputs": []
    },
    {
      "cell_type": "markdown",
      "metadata": {
        "id": "QKgmn1gjITPO",
        "colab_type": "text"
      },
      "source": [
        "文字列の繰り返し\n",
        "```\n",
        "▶ 'spam' * 5\n",
        "'spamspamspamspamspam'\n",
        "```\n",
        "（コードを書いて実際に動かしてみよう）"
      ]
    },
    {
      "cell_type": "code",
      "metadata": {
        "id": "N9icWNPoIUKV",
        "colab_type": "code",
        "colab": {}
      },
      "source": [
        ""
      ],
      "execution_count": null,
      "outputs": []
    },
    {
      "cell_type": "markdown",
      "metadata": {
        "colab_type": "text",
        "id": "YNIeKrM-V_Q6"
      },
      "source": [
        "<h1>条件分岐と繰り返し</h1>\n",
        "\n",
        "Colaboratory（略称: Colab）では、ブラウザから Python を記述し実行できるほか、次の特長を備えています。 \n",
        "- 構成が不要\n",
        "- GPU への無料アクセス\n",
        "- 簡単に共有\n",
        "\n",
        "Colab は、<strong>学生</strong>、<strong>データ サイエンティスト</strong>、<strong>AI リサーチャー</strong>の皆さんの作業を効率化します。詳しくは、<a href=\"https://www.youtube.com/watch?v=inN8seMm7UI\">Colab のご紹介</a>をご覧ください。下からすぐに使ってみることもできます。"
      ]
    },
    {
      "cell_type": "code",
      "metadata": {
        "id": "J8nzT2tYVibi",
        "colab_type": "code",
        "colab": {}
      },
      "source": [
        "for i in range(5):\n",
        "  print(i)"
      ],
      "execution_count": null,
      "outputs": []
    },
    {
      "cell_type": "markdown",
      "metadata": {
        "id": "OTrJ3s1nVs4z",
        "colab_type": "text"
      },
      "source": [
        ""
      ]
    }
  ]
}