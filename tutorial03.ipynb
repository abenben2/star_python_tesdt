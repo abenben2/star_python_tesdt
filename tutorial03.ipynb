{
  "nbformat": 4,
  "nbformat_minor": 0,
  "metadata": {
    "colab": {
      "name": "tutorial03.ipynb",
      "provenance": [],
      "private_outputs": true,
      "authorship_tag": "ABX9TyNdb6E0wwtpK7fFUUH5Fz0P",
      "include_colab_link": true
    },
    "kernelspec": {
      "name": "python3",
      "display_name": "Python 3"
    }
  },
  "cells": [
    {
      "cell_type": "markdown",
      "metadata": {
        "id": "view-in-github",
        "colab_type": "text"
      },
      "source": [
        "<a href=\"https://colab.research.google.com/github/abenben2/star_python_tesdt/blob/master/tutorial03.ipynb\" target=\"_parent\"><img src=\"https://colab.research.google.com/assets/colab-badge.svg\" alt=\"Open In Colab\"/></a>"
      ]
    },
    {
      "cell_type": "markdown",
      "metadata": {
        "id": "PTzT7GYvUzfY",
        "colab_type": "text"
      },
      "source": [
        "<h1>前回の復習</h1>\n",
        "\n",
        "基本的なデータの種類を理解しよう。\n",
        "\n",
        "前回の復習を兼ねてデータの種類についておさらいをしまよう。"
      ]
    },
    {
      "cell_type": "markdown",
      "metadata": {
        "id": "m4B26pWG5vWJ",
        "colab_type": "text"
      },
      "source": [
        "<h1>3. Pythonのデータ型（基本編）</h1>\n",
        "\n",
        "代表的なPythonのデータ型と、便利な使い方を紹介します。\n",
        "\n",
        "それぞれのデータ型の紹介で、「これだけは知っておくとよいよ」という機能を挙げます。"
      ]
    },
    {
      "cell_type": "markdown",
      "metadata": {
        "id": "Gt_QBaC56T60",
        "colab_type": "text"
      },
      "source": [
        "<h2>3.1. はじめに</h2>\n",
        "\n",
        "本節では整数型（int）、浮動小数点型（float）、文字列型（str）を扱います。\n",
        "\n",
        "データ型については、Pythonの公式ドキュメントも参考にしてください。\n",
        "\n",
        "組み込み型 https://docs.python.org/ja/3/library/stdtypes.html"
      ]
    },
    {
      "cell_type": "markdown",
      "metadata": {
        "id": "rV-tmVF86ZEw",
        "colab_type": "text"
      },
      "source": [
        "<h2>3.2. 整数型（int）</h2>\n",
        "\n",
        "整数を扱うには、整数型（int）を使います。\n",
        "\n",
        "主な演算子には、前節で説明した四則演算（+、-、*、/）と剰余（%）の他に、累乗（**）があります"
      ]
    },
    {
      "cell_type": "markdown",
      "metadata": {
        "id": "7VyR4T8W6im1",
        "colab_type": "text"
      },
      "source": [
        "**整数型**\n",
        "\n",
        "```\n",
        "▶ 2+1\n",
        "4\n",
        "▶ 3 - 8\n",
        "-5\n",
        "▶ 6 * 9\n",
        "54\n",
        "▶ 8 / 2\n",
        "4.0\n",
        "▶ 5 % 2\n",
        "1\n",
        "▶ 5 ** 2\n",
        "25\n",
        "```\n",
        "（コードを書いて実際に動かしてみよう）"
      ]
    },
    {
      "cell_type": "code",
      "metadata": {
        "id": "QES1p2__7Y9Z",
        "colab_type": "code",
        "colab": {}
      },
      "source": [
        ""
      ],
      "execution_count": null,
      "outputs": []
    },
    {
      "cell_type": "markdown",
      "metadata": {
        "colab_type": "text",
        "id": "YNIeKrM-V_Q6"
      },
      "source": [
        "<h1>条件分岐と繰り返し</h1>\n",
        "\n",
        "Colaboratory（略称: Colab）では、ブラウザから Python を記述し実行できるほか、次の特長を備えています。 \n",
        "- 構成が不要\n",
        "- GPU への無料アクセス\n",
        "- 簡単に共有\n",
        "\n",
        "Colab は、<strong>学生</strong>、<strong>データ サイエンティスト</strong>、<strong>AI リサーチャー</strong>の皆さんの作業を効率化します。詳しくは、<a href=\"https://www.youtube.com/watch?v=inN8seMm7UI\">Colab のご紹介</a>をご覧ください。下からすぐに使ってみることもできます。"
      ]
    },
    {
      "cell_type": "code",
      "metadata": {
        "id": "J8nzT2tYVibi",
        "colab_type": "code",
        "colab": {}
      },
      "source": [
        "for i in range(5):\n",
        "  print(i)"
      ],
      "execution_count": null,
      "outputs": []
    },
    {
      "cell_type": "markdown",
      "metadata": {
        "id": "OTrJ3s1nVs4z",
        "colab_type": "text"
      },
      "source": [
        ""
      ]
    }
  ]
}