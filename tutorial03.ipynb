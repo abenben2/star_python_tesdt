{
  "nbformat": 4,
  "nbformat_minor": 0,
  "metadata": {
    "colab": {
      "name": "tutorial03.ipynb",
      "provenance": [],
      "private_outputs": true,
      "toc_visible": true,
      "authorship_tag": "ABX9TyMbpamu+M7Rvn94hT0xqIL+",
      "include_colab_link": true
    },
    "kernelspec": {
      "name": "python3",
      "display_name": "Python 3"
    }
  },
  "cells": [
    {
      "cell_type": "markdown",
      "metadata": {
        "id": "view-in-github",
        "colab_type": "text"
      },
      "source": [
        "<a href=\"https://colab.research.google.com/github/abenben2/star_python_tesdt/blob/master/tutorial03.ipynb\" target=\"_parent\"><img src=\"https://colab.research.google.com/assets/colab-badge.svg\" alt=\"Open In Colab\"/></a>"
      ]
    },
    {
      "cell_type": "markdown",
      "metadata": {
        "id": "PTzT7GYvUzfY",
        "colab_type": "text"
      },
      "source": [
        " **Python基礎講座（２日目）**\n",
        " \n",
        " # 前回の復習\n",
        "\n",
        "基本的なデータの型の種類を理解しよう。\n",
        "\n",
        "前回の復習を兼ねて基本的なデータの型の種類と、複数のデータ型をひとまとめにして扱えるコレクションについておさらいをしまよう。"
      ]
    },
    {
      "cell_type": "markdown",
      "metadata": {
        "id": "m4B26pWG5vWJ",
        "colab_type": "text"
      },
      "source": [
        "# 3. Pythonのデータ型（基本編）\n",
        "\n",
        "代表的なPythonのデータ型と、便利な使い方を紹介します。\n",
        "\n",
        "それぞれのデータ型の紹介で、「これだけは知っておくとよいよ」という機能を挙げます。"
      ]
    },
    {
      "cell_type": "markdown",
      "metadata": {
        "id": "Gt_QBaC56T60",
        "colab_type": "text"
      },
      "source": [
        "## 3.1. はじめに\n",
        "\n",
        "本節では整数型（int）、浮動小数点型（float）、文字列型（str）を扱います。\n",
        "\n",
        "データ型については、Pythonの公式ドキュメントも参考にしてください。\n",
        "\n",
        "組み込み型 https://docs.python.org/ja/3/library/stdtypes.html"
      ]
    },
    {
      "cell_type": "markdown",
      "metadata": {
        "id": "rV-tmVF86ZEw",
        "colab_type": "text"
      },
      "source": [
        "## 3.2. 整数型（int）\n",
        "\n",
        "整数を扱うには、整数型（int）を使います。\n",
        "\n",
        "主な演算子には、前節で説明した四則演算（+、-、*、/）と剰余（%）の他に、累乗（**）があります"
      ]
    },
    {
      "cell_type": "markdown",
      "metadata": {
        "id": "7VyR4T8W6im1",
        "colab_type": "text"
      },
      "source": [
        "### 整数型\n",
        "```\n",
        "▶ 2+1\n",
        "4\n",
        "```\n",
        "（コードを書いて実際に動かしてみよう）"
      ]
    },
    {
      "cell_type": "code",
      "metadata": {
        "id": "QES1p2__7Y9Z",
        "colab_type": "code",
        "colab": {}
      },
      "source": [
        ""
      ],
      "execution_count": null,
      "outputs": []
    },
    {
      "cell_type": "markdown",
      "metadata": {
        "id": "I5VUv4wU86h8",
        "colab_type": "text"
      },
      "source": [
        "```\n",
        "▶ 3 - 8\n",
        "-5\n",
        "```\n",
        "（コードを書いて実際に動かしてみよう）"
      ]
    },
    {
      "cell_type": "code",
      "metadata": {
        "id": "HsGYN_r59aUt",
        "colab_type": "code",
        "colab": {}
      },
      "source": [
        ""
      ],
      "execution_count": null,
      "outputs": []
    },
    {
      "cell_type": "markdown",
      "metadata": {
        "id": "OYnrH6hm88jg",
        "colab_type": "text"
      },
      "source": [
        "```\n",
        "▶ 6 * 9\n",
        "54\n",
        "```\n",
        "（コードを書いて実際に動かしてみよう）"
      ]
    },
    {
      "cell_type": "code",
      "metadata": {
        "id": "_ohnH0eh9bpJ",
        "colab_type": "code",
        "colab": {}
      },
      "source": [
        ""
      ],
      "execution_count": null,
      "outputs": []
    },
    {
      "cell_type": "markdown",
      "metadata": {
        "id": "Nzamj1Iw89y9",
        "colab_type": "text"
      },
      "source": [
        "```\n",
        "▶ 8 / 2\n",
        "4.0\n",
        "```\n",
        "（コードを書いて実際に動かしてみよう）"
      ]
    },
    {
      "cell_type": "code",
      "metadata": {
        "id": "USzibrzK9caC",
        "colab_type": "code",
        "colab": {}
      },
      "source": [
        ""
      ],
      "execution_count": null,
      "outputs": []
    },
    {
      "cell_type": "markdown",
      "metadata": {
        "id": "Lmn75VrO8-sp",
        "colab_type": "text"
      },
      "source": [
        "```\n",
        "▶ 5 % 2\n",
        "1\n",
        "```\n",
        "（コードを書いて実際に動かしてみよう）"
      ]
    },
    {
      "cell_type": "code",
      "metadata": {
        "id": "j9E8w1PQ9dHc",
        "colab_type": "code",
        "colab": {}
      },
      "source": [
        ""
      ],
      "execution_count": null,
      "outputs": []
    },
    {
      "cell_type": "markdown",
      "metadata": {
        "id": "xhtDJdzx9ENx",
        "colab_type": "text"
      },
      "source": [
        "```\n",
        "▶ 5 ** 2\n",
        "25\n",
        "```\n",
        "（コードを書いて実際に動かしてみよう）"
      ]
    },
    {
      "cell_type": "code",
      "metadata": {
        "id": "Qx6jE6SE9d51",
        "colab_type": "code",
        "colab": {}
      },
      "source": [
        ""
      ],
      "execution_count": null,
      "outputs": []
    },
    {
      "cell_type": "markdown",
      "metadata": {
        "id": "CbUKyu1z-SfQ",
        "colab_type": "text"
      },
      "source": [
        "### 整数型同士の商\n",
        "\n",
        "割り算の結果は小数点以下も出力されます"
      ]
    },
    {
      "cell_type": "markdown",
      "metadata": {
        "id": "5F5rabe9-i39",
        "colab_type": "text"
      },
      "source": [
        "```\n",
        "▶ 10 / 3\n",
        "3.3333333333333335\n",
        "```\n",
        "（コードを書いて実際に動かしてみよう）"
      ]
    },
    {
      "cell_type": "code",
      "metadata": {
        "id": "oEmK5pHE-5Pl",
        "colab_type": "code",
        "colab": {}
      },
      "source": [
        ""
      ],
      "execution_count": null,
      "outputs": []
    },
    {
      "cell_type": "markdown",
      "metadata": {
        "id": "Wj1X5sQI-j1h",
        "colab_type": "text"
      },
      "source": [
        "```\n",
        "▶ 10 / 4\n",
        "2.5\n",
        "```\n",
        "（コードを書いて実際に動かしてみよう）"
      ]
    },
    {
      "cell_type": "code",
      "metadata": {
        "id": "bZzQ-blS-6Ac",
        "colab_type": "code",
        "colab": {}
      },
      "source": [
        ""
      ],
      "execution_count": null,
      "outputs": []
    },
    {
      "cell_type": "markdown",
      "metadata": {
        "id": "dw-0aAbZ-kW4",
        "colab_type": "text"
      },
      "source": [
        "```\n",
        "▶ -10 / 4\n",
        "-2.5\n",
        "```\n",
        "（コードを書いて実際に動かしてみよう）"
      ]
    },
    {
      "cell_type": "code",
      "metadata": {
        "id": "bl-ePUIh-61q",
        "colab_type": "code",
        "colab": {}
      },
      "source": [
        ""
      ],
      "execution_count": null,
      "outputs": []
    },
    {
      "cell_type": "markdown",
      "metadata": {
        "id": "8hm-bEp7_sPZ",
        "colab_type": "text"
      },
      "source": [
        "### //での割り算\n",
        "\n",
        "割り算の結果を整数で取得したい場合は // 演算子を使用します。 その場合は、小数点以下は切り捨てられます。"
      ]
    },
    {
      "cell_type": "markdown",
      "metadata": {
        "id": "v6WJeQGV_3vz",
        "colab_type": "text"
      },
      "source": [
        "```\n",
        "▶ 10 // 3\n",
        "3\n",
        "```\n",
        "（コードを書いて実際に動かしてみよう）"
      ]
    },
    {
      "cell_type": "code",
      "metadata": {
        "id": "0Hmurp24_4Va",
        "colab_type": "code",
        "colab": {}
      },
      "source": [
        ""
      ],
      "execution_count": null,
      "outputs": []
    },
    {
      "cell_type": "markdown",
      "metadata": {
        "id": "-YH0Q_DS_5Gl",
        "colab_type": "text"
      },
      "source": [
        "```\n",
        "▶ 10 // 4\n",
        "2\n",
        "```\n",
        "（コードを書いて実際に動かしてみよう）"
      ]
    },
    {
      "cell_type": "code",
      "metadata": {
        "id": "324Os6aF_5oD",
        "colab_type": "code",
        "colab": {}
      },
      "source": [
        ""
      ],
      "execution_count": null,
      "outputs": []
    },
    {
      "cell_type": "markdown",
      "metadata": {
        "id": "cbct40Q6_5wb",
        "colab_type": "text"
      },
      "source": [
        "```\n",
        "▶ -10 // 4\n",
        "-3\n",
        "```\n",
        "（コードを書いて実際に動かしてみよう）"
      ]
    },
    {
      "cell_type": "code",
      "metadata": {
        "id": "QuNHPH8O_6LI",
        "colab_type": "code",
        "colab": {}
      },
      "source": [
        ""
      ],
      "execution_count": null,
      "outputs": []
    },
    {
      "cell_type": "markdown",
      "metadata": {
        "id": "aoc-AEe-Aekb",
        "colab_type": "text"
      },
      "source": [
        "## 3.3. 浮動小数点型（float）"
      ]
    },
    {
      "cell_type": "markdown",
      "metadata": {
        "id": "BpNUxSE7Amd_",
        "colab_type": "text"
      },
      "source": [
        "### 浮動小数点の計算\n",
        "\n",
        "小数を扱うには浮動小数点型（float）を使います。\n",
        "\n",
        "整数型と同様の演算子が使えます。\n",
        "\n",
        "浮動小数点型と整数型との計算は浮動小数点型を返します。"
      ]
    },
    {
      "cell_type": "markdown",
      "metadata": {
        "id": "FzOryLuBA1Uo",
        "colab_type": "text"
      },
      "source": [
        "```\n",
        "▶ 5.0\n",
        "5.0\n",
        "```\n",
        "（コードを書いて実際に動かしてみよう）"
      ]
    },
    {
      "cell_type": "code",
      "metadata": {
        "id": "Siig2SqrA3ff",
        "colab_type": "code",
        "colab": {}
      },
      "source": [
        ""
      ],
      "execution_count": null,
      "outputs": []
    },
    {
      "cell_type": "markdown",
      "metadata": {
        "id": "PWb8RwDBA3oF",
        "colab_type": "text"
      },
      "source": [
        "```\n",
        "▶ 5.0 + 5.2\n",
        "10.2\n",
        "```\n",
        "（コードを書いて実際に動かしてみよう）"
      ]
    },
    {
      "cell_type": "code",
      "metadata": {
        "id": "RHvY5tLdA4nh",
        "colab_type": "code",
        "colab": {}
      },
      "source": [
        "\n"
      ],
      "execution_count": null,
      "outputs": []
    },
    {
      "cell_type": "markdown",
      "metadata": {
        "id": "94fri8D1A4wh",
        "colab_type": "text"
      },
      "source": [
        "```\n",
        "▶ 10.2 + 8\n",
        "18.2\n",
        "```\n",
        "（コードを書いて実際に動かしてみよう）"
      ]
    },
    {
      "cell_type": "code",
      "metadata": {
        "id": "SA267pnFA5QG",
        "colab_type": "code",
        "colab": {}
      },
      "source": [
        ""
      ],
      "execution_count": null,
      "outputs": []
    },
    {
      "cell_type": "markdown",
      "metadata": {
        "id": "W8xcQ8KlBjkL",
        "colab_type": "text"
      },
      "source": [
        "## 3.4. 文字列型（str）\n",
        "\n",
        "文字列を使うには文字列型（str）を使います。\n",
        "シングルクォート（'）かダブルクォート（\"）の間に文字を入力します。 シングルクォート、ダブルクォートのどちらで書いても機能的な違いはありません。\n",
        "```\n",
        "▶ 'Hello,world'\n",
        "'Hello,world'\n",
        "▶ \"Hello,world\"\n",
        "'Hello,world'\n",
        "```"
      ]
    },
    {
      "cell_type": "markdown",
      "metadata": {
        "id": "cncGiaG2CWnC",
        "colab_type": "text"
      },
      "source": [
        "### 3.4.1. 文字のエスケープ\n",
        "\n",
        "文字列中にクォート文字やその他の特殊な文字を含めたい場合は、バックスラッシュ（\\）でエスケープします。\n",
        "\n",
        "たとえば、シングルクォートで囲まれた文字列中では、シングルクォートを \\' と書き、改行文字を \\n と書きます"
      ]
    },
    {
      "cell_type": "markdown",
      "metadata": {
        "id": "O4TfgROSCmZQ",
        "colab_type": "text"
      },
      "source": [
        "```\n",
        "▶ print('I\\'m Kazuya')\n",
        "I'm Kazuya Kazuya\n",
        "```\n",
        "（コードを書いて実際に動かしてみよう）"
      ]
    },
    {
      "cell_type": "code",
      "metadata": {
        "id": "N5DDMCycCm2P",
        "colab_type": "code",
        "colab": {}
      },
      "source": [
        ""
      ],
      "execution_count": null,
      "outputs": []
    },
    {
      "cell_type": "markdown",
      "metadata": {
        "id": "zK1bTBOlCow1",
        "colab_type": "text"
      },
      "source": [
        "```\n",
        "▶ print('Hello\\nworld')\n",
        "Hello\n",
        "world\n",
        "```\n",
        "（コードを書いて実際に動かしてみよう）"
      ]
    },
    {
      "cell_type": "code",
      "metadata": {
        "id": "El8Xhwy0Cpct",
        "colab_type": "code",
        "colab": {}
      },
      "source": [
        ""
      ],
      "execution_count": null,
      "outputs": []
    },
    {
      "cell_type": "markdown",
      "metadata": {
        "id": "J2KPBMnoGuFe",
        "colab_type": "text"
      },
      "source": [
        "**シングルクォートを含む文字列について**\n",
        "\n",
        "文字列がシングルクォートを含み、ダブルクォートを含まない場合は、ダブルクォートで囲むと見やすいです。\n",
        "\n",
        "```\n",
        "▶ print(\"I'm Kazuya\")\n",
        "I'm Kazuya\n",
        "```\n",
        "（コードを書いて実際に動かしてみよう）"
      ]
    },
    {
      "cell_type": "code",
      "metadata": {
        "id": "9emFwKflHBDS",
        "colab_type": "code",
        "colab": {}
      },
      "source": [
        ""
      ],
      "execution_count": null,
      "outputs": []
    },
    {
      "cell_type": "markdown",
      "metadata": {
        "id": "keG268mDHGfN",
        "colab_type": "text"
      },
      "source": [
        "### 3.4.2. 三重クォート\n",
        "\n",
        "改行を含む文字列を一度に定義するには、三重クォート（クォート文字3つ）で文字列を囲みます。\n",
        "\n",
        "シングルクォートの場合は ''' 、ダブルクォートの場合は \"\"\" です\n",
        "\n",
        "```\n",
        "▶ \"\"\" foo\n",
        "▶ bar\n",
        "▶ baz\n",
        "▶ \"\"\"\n",
        "' foo\\nbar\\nbaz\\n'\n",
        "```\n",
        "（コードを書いて実際に動かしてみよう）"
      ]
    },
    {
      "cell_type": "code",
      "metadata": {
        "id": "jzpT1eNVHZFX",
        "colab_type": "code",
        "colab": {}
      },
      "source": [
        ""
      ],
      "execution_count": null,
      "outputs": []
    },
    {
      "cell_type": "markdown",
      "metadata": {
        "id": "IyMHjJynIHNQ",
        "colab_type": "text"
      },
      "source": [
        "### 3.4.3. 文字列の結合と繰り返し\n",
        "\n",
        "文字列型同士を結合するには、プラス記号（+）を使います。\n",
        "\n",
        "アスタリスク（*）を使って繰り返した文字列を取得できます。\n",
        "\n",
        "アスタリスクの左に繰り返したい文字列を、右に繰り返し回数を整数型で指定します"
      ]
    },
    {
      "cell_type": "markdown",
      "metadata": {
        "id": "gHOQnNxxIQLX",
        "colab_type": "text"
      },
      "source": [
        "文字列の結合\n",
        "```\n",
        "▶ 'Mt.' + 'Fuji'\n",
        "'Mt.Fuji'\n",
        "```\n",
        "（コードを書いて実際に動かしてみよう）"
      ]
    },
    {
      "cell_type": "code",
      "metadata": {
        "id": "riXgmaaNIQ3n",
        "colab_type": "code",
        "colab": {}
      },
      "source": [
        ""
      ],
      "execution_count": null,
      "outputs": []
    },
    {
      "cell_type": "markdown",
      "metadata": {
        "id": "QKgmn1gjITPO",
        "colab_type": "text"
      },
      "source": [
        "文字列の繰り返し\n",
        "```\n",
        "▶ 'spam' * 5\n",
        "'spamspamspamspamspam'\n",
        "```\n",
        "（コードを書いて実際に動かしてみよう）"
      ]
    },
    {
      "cell_type": "code",
      "metadata": {
        "id": "N9icWNPoIUKV",
        "colab_type": "code",
        "colab": {}
      },
      "source": [
        ""
      ],
      "execution_count": null,
      "outputs": []
    },
    {
      "cell_type": "markdown",
      "metadata": {
        "id": "969cJ5kLJHaq",
        "colab_type": "text"
      },
      "source": [
        "### 3.4.4. インデックス表記\n",
        "\n",
        "文字列のある位置を指定して1文字を取り出す機能です。"
      ]
    },
    {
      "cell_type": "markdown",
      "metadata": {
        "id": "zWy1l4HzJMRo",
        "colab_type": "text"
      },
      "source": [
        "文字列から1文字取り出し\n",
        "```\n",
        "▶ 'python'[1]\n",
        "'y'\n",
        "```\n",
        "（コードを書いて実際に動かしてみよう）"
      ]
    },
    {
      "cell_type": "code",
      "metadata": {
        "id": "LhtDG1o_JdoC",
        "colab_type": "code",
        "colab": {}
      },
      "source": [
        ""
      ],
      "execution_count": null,
      "outputs": []
    },
    {
      "cell_type": "markdown",
      "metadata": {
        "id": "neLn2VR0JeF-",
        "colab_type": "text"
      },
      "source": [
        "文字列の先頭文字を0として数えた1の位置にある文字、 'y' が返されています。\n",
        "\n",
        "この位置をインデックスと呼びます。インデックスには負数も使えます。 以下の図のようになります。\n",
        "\n",
        "![z31.png](data:image/png;base64,iVBORw0KGgoAAAANSUhEUgAABA0AAAFvCAIAAACuG6VMAAAAA3NCSVQICAjb4U/gAAAAGXRFWHRTb2Z0d2FyZQBnbm9tZS1zY3JlZW5zaG907wO/PgAAIABJREFUeJzt3XVAlPcDx/E7ugREEAQxELATHXbPzplTZ2Buduumzpxzdju7cxO7C1uxwSQVBBREQLru98dvcs895OnBIbxff+373HPskYcnPt+UymQyCQAAAAB85ubmpqHuYwAAAACQ75ATAAAAAIiREwAAAACIkRMAAAAAiJETAAAAAIiREwAAAACIkRMAAAAAiJETAAAAAIiREwAAAACIkRMAAAAAiJETAAAAAIiREwAAAACIkRMAAAAAiJETAAAAAIiREwAAAACIkRMAAAAAiJETAAAAAIiREwAAAACIkRMAAAAAiJETAAAAAIiREwAAAACIkRMAAAAAiJETAAAAAIiREwAAAACIkRMAAAAAiJETAAAAAIiREwAAAACIkRMAAAAAiJETAAAAAIiREwAAAACIkRMAAAAAiJETAAAAAIiREwAAAACIkRMAAAAAiJETAAAAAIiREwAAAACIkRMAAAAAiJETAAAAAIiREwAAAACIkRMAAAAAiJET8lqDBg0MBUqVKvXixQt1HxQkEonkypUrRYsWFZ6d4cOHJyUlqfu4IJFIJL169RKeGmtr6/Pnz6v7oAoLfvn51vv37y0sLIRnp3Xr1pGRkeo+LkgkEsn8+fOFp8bMzGzz5s3qPqjCYsqUKcJfvoWFxa5du9R9UN8kckJee/z4cayAqanpkSNH1H1QkEgkkmfPnkVERAjPzp49e2JjY9V9XJBIJJK7d+8KT03x4sW3b9+u7oMqLPjl51uhoaFhYWHCs/Ps2bM3b96o+7ggkUgkFy9eFJ4aQ0PDHTt2qPugCotr164Jf/lFixbduHGjug/qm0ROUDNDQ0N1HwIypampqe5DQMa4cNSIX35+pqOjo+5DQMY4NWqkr6+v7kP4VpETAAAAAIiREwAAAACIkRMAAAAAiJETAAAAAIiREwAAAACIkRMAAAAAiJETAAAAAIiREwAAAACIkRMAAAAAiJETAAAAAIiREwAAAACIkRMAAAAAiJETAAAAAIiREwAAAACIkRMAAAAAiJETAAAAAIiREwAAAACIkRMAAAAAiJETAAAAAIiREwAAAACIkRMAAAAAiJETAAAAAIiREwAAAACIkRMAAAVe6rtd9aRCGnWWeSWp+6gAIF8jJwAACh2jbn8McdBW91EAQL5GTgAAFDraBrqa6j4GAMjnyAkAAAAAxMgJAKA+Mpm6jwAAgIxpqfsAAKAQSQrzuObm/tjD48mTJx4eHl5aLlce/llTT92HBQBAOuQEAMgzSb6be7WY/jytbO7SzoGQAADIl+h3BAB5JjkqJEpYLlOvnL66jgUAgCyREwAgz6REBQtzgmHp0sbMugMAyJ/ICQCQZxIj3kULilaVSuio7VgAAMgSOQEA8krKp3dRwgmOrCoUJycAAPIpcgIA5BXR8AST0tYGUrUdDAAAWSInAEBeEQ1PMCtjpq22YwEAIGvMiwqVkyWEej3xfOXj6+sXGKlR1MqmpF21Bg2rWupScYrCTtSeYFbajHtwfiJLDPe5f+Pmg1eBYdGa5mUdHB0r16xV3py+YeqQ+OHl/Qcv/AMCAoPC4nXNra1tbB1q1HUqy8h/dUuNC3l2+/ptD5/g8CRDazsHxwpVnaqXKcJ5KZh4RkE5qSE76pcYeCetXGrSg5eL/1slKjn8yYltG9Zv2HrOOyHdF82rd+w/btav/WoX449OhZJe/VWr/FRPwRbt1q4hZ7qYKfczapSf+iytXGri/ZdLajGp/9eJPP69WacLqVnvdH+4rdbwTD9tcvjjla6mKj4uZCz5w8N/Vy9csPSQR7Tok6K1+02cPm10l8rGtL/nBVmsz9kt67buPeh6OzA5/cd6ZRp07jVk4qR+dcx5lKheks+yWvYT5U+Uin++fDzV8XOrpyw+8PrOpQsWrj7rn6L4PWnJZiMmT588tGVZfSoECxjue1CNhDfHpzQuXb3rpPUZhQSJRBL2+PiyQXWsqvRecedjNi9PyDntcv2mNFfoumLrZGeo1I+QRTw8/VJQLtWzTyVCwleTJSfxd/5tSI24u7yLnXmt3nPShwSJRPLx3u4Z3arUcNnrE5/3x1a4pEQ82jmuaWn7tmOWHcowJEgkknj/GwcWDfrOsnyXOSf8OSN5Jyn4zK9NrG0bD1+RLiRIJBJZ4OX1Y1s5Nph8Ojjj84ZvFjkBypKmqy1IDjoxrq5Dp8W3MnjGind9eWB83TpD9vlyf1cRzRIdp/YoKtjge+L8myRlfsKnR64PBLf90r2JCaqQkpT+WYp8RxbtsbFPdecJRwOy2dFvR9+aHVc+i8uToyqMZJ8eruxkX3PAyqthOdk91ffo7I6VW8y6FMp1lvtSwq4taFOp7cJrH7PeL/nh0nY1f9zpr9QTCPkcOQFfKfXDpUnNOq58lPh5g1m5mo3a9vhpQO8OjWvaF9fN4Cs+2/p8N+BQELUOKiE1bTRxcGnBhierN3oo8TYT6/nPZUGX+TK9f6xITPh6slQNIzNtsfQdJbTS7ZOmmLEOLfi5ShbzaFFLp+EH3gi26VlVrN+mc/vmTqXTXQafLozrOsc9Jg8PsNBICjo+tn6dcac+iLbrla7dvGPP/i79e3RoWsM63eUTe3Nei5oDDmbS8gDVSPlwYVzdxjMuRQi2GZeu0bRDpzaNKluk2/3dP4N6LH+WYa8CfJPICVCSqDkh9OToHitfSSQSicSs0S+rzryKCvV+cPXUwZ3b9x13e+D1Libi+cnlLrX0RT/lw8Gf+mx4xa1EJfSrjhhXU1B+vXXFzcicfjnO88DJ9/KiXd++xARVkFp0P/0hUSzi6kDhyBFzl2sR6fZJE3asvYnajr8QSA4+NrLd9Dufqz5LNB+39c67hLjgZzdOHzlx8Z5/1PvbGwZVUhyb+Wrx6K2+VJaqlizafW6bTqs9hQ0DGg49/jj29MMnf/eLxw7s2LLj4PHLD9/GvH948Ld2JRW//XZPnx+WPInN0yMuTOJfbujVeY3PfyWdCt3muj6PTI70f3j5+NHTVz3fxfqemtvOUuErqfdmT/gniHaegoKcAOVIRUEh7uWLWIlEYtRw1sXnl9aObu1QRPFvStOkQrtxW+74XZrbRLHXfILbmD5rXiVK8PW0y/44tbXg7T780JKz73PWOT7WY/c/b+XFKiP6V8ioCQiqkRIdJqyONrY2YSimunx0HdJ3R7BEIpFIdJ0mHHvtd3H5oO+Eq95pWzgP33zzxmwnYVRIvbNmjxe3LRVKeX9iVKf5HoIt0kqjjr72PDi9YyXRbGA6FjV6zD/xymtXv1IKP8F9eqcpVyJkEqjei+U9xl/8fwor1uavm8Ge/8zsUkEw45RUv2zbmUfu/zughPBbcWdXHqWVp6AgJ+DradZecP3snObFM3/l0bJsNuPYpdm1FfaQ3Z/729kP3NxVQMOy7dTe5vJy/Jklh17n5C4d67HznyB50XlkTzvm8889ssTIj8JGNJMSxuQEtYn7/3gqmz47Pa4t6Vgqw3ysYeI8fe9fTsJNr/a4+hIUVCXlneuIfjtCBFsqTL58fWWnkplORSvVt++3/e7xIQrNCq/XDl/6mLEjuUAWmSCRSCQaVSec9jw+uZ5ZhnOfatt0XbVvhEJScN9xPoQWhYKBnAAlpR/GXGHG1gnVDbL9nvF3vx3e0kZhv6h/F/4TQKWDKhjXHz/MTlB2X7HtefbdumKf7DwcnFbSbjG6iy3vrblI1JwgNbFiKnj1Ktpl29WtPzlkNZWjjsOAWZ2E9y3vix5RVG+oRszdBeNcBcOjNOss+mduk6LZvZhoWrZf9s+08sJNr5b/fiaUGcZyh+3gI+f/amOVxcNBalx/4qRqwi0vLnsR3AoGcgK+Vp0xg3LYo13LtveyXysJt8hubT75lkoHVdCtNHTid4Ky98Y17tnNPxV9f8sheUwwbDemjSV3hNyUGhMmPCdFrIrSeqNOxfru2tTfLruOdlKzur1rCy6MFJ+7AQytUoXUdyfnbRZ0e5SUmbhhdOUcPU2kRb6bvn6QcBBtzPG/jvAwyQ1lxu9f3sEyuxoNbdtWXewF5cgXL8M5HQUCbwVQmmLVm327xllVMyjSKT9oamOF+82D/TfCqARSBa1SPaZ2FFR7vtuz5GJYltWekbc2/BOaVirWfWzTYsyvk6vEwxPodqRW1X6d3co8B89AqVHZSsI30oiAj7SCqkBK8KnVZwV1zpoNfh1ZTTzlRaakxg0mj68s2CC7s+18MG+mqqbTYsGUukVy8GTQta5WUrhbVMgnLpMCgZwAZSneMLTK1rRRYuCrhlXLQc7CDame517SOqkSGhatpvQTzDsRc2LJ0cDMH5uy8Kvrjslnuiv508i6xrl5eJBIUmIUcoKesR7BTH0q9GpXKmftOdpmZYTTVEWHxfA6+vVSw9x23BRUEmk1HtmppDLBWcexz0jh0BHZQ9dHn1R1dPg/6XeDWuSwmVnXopRw9fi4iFiqAAsEcgKUJBqfYGJjplTXCQ3z71o7CjeEe774yENXNYzqjPlF0Gc35frSXZlOzZIaenHtaXknGMehQ6vnuCYPXygl5oMwJ2jra3MHVhvtMtVKZDpYVpFUW094l0tlqW1ViHl6/JHw91ixk3Mx5a4HzRKNOwi7usQ/cWMFTxWzdnI0zmFtRrrLhKukYOApBaUp3DT0jPWU+yPSKVnbUaEB4v3Ld8xHriK6FQZNaiA4H8/XrX+U8cTiKSFn1lyQd7KuNbKfYw7fmfDlUhIShZlYW0+b9gS10S9qmONB5FJNhbtcairjmL9a8vvHT4XLvJhUrZ7FlHkZ07GtW1lYvRHs8ZacoFqGxb70MpHJJFwmBQI5AcpSfLPR0NZU8lVHx6qCwqIsNOKrkGbJH6Z2KSIvv92x7GpG84onBx5bezXt167VdFz30vSUz3Wy5ASFDrva+uQE9dFU4taVfpY3fK3EkKfBwrJ5OQvlR/WLniZJ7wMieZqolKaOFpdJIUdOgJK++k6gaWSusOJaYkwCzZMqIzVrMXmAtbwc6br4REi632+S/7/r76aVDNuNa1eC+Tlznyw5kZwASCQSiSQl5oNCW6eesa7y7yOaRhZGwnJ8VDxPE0ClyAn4OjKlW+Cl2gYKPVy09XV4WVIhg1qjRgtmAUm8tHS/r6hjV6L3/o1P0kpm3cY2Y6KjvCBLUWxP0NJRtjEOKChkqckKVf8piSnKd1ORaioO8ZGlyujrAqgUOQHKUmxbTE1RNijIEmMUxtbqm+pTl61KOvY/TWkqaMF/tGqTp0Kn3fjnu7a+TCuV/GlUPSY6yhPifkcpSfSRQGGloWeiMHNCZNAXdBlKjYtUuLfpmfA0AVSLnAAlibogJnxSttdQclSwcPSaxMLenMWmVErTuuPUboIJ6vy3rLolWPI09snWnX5pJcchTHSUV8T9jpITkqn8RCGlY+EgXJRC8u7p6xilL4ekMO9QQVHb0taEnACoFDkByhH3k4iLiFMuJ8hiX3uECMr6ZRyLMYRWtaRFm0x0sZWXPxxYcu7959MUfX/TPvkSqLVG/lSeiY7yiCw5QaHGNCmemQNRWOlY1ygnvPWkPrvwStmldJJDnzz5KCiXqGabo9WcAeQYOQHKUmxQiA18E6XUu07s89Mewi84tqxgmOnO+EL61X8eV0NejDu1+N83/6/KVliEWavJGCY6ykOpKQrXSnJ8Eu0JKKyKVG9XSVh+f+afZ8oFBdnHu0efCsr6NZqWJScAqkVOwFcKeBCozIzVMU/2ngoTlEu3blSCF1XV07brM6WVYJ2Ku8u3v0j4/yLMR9MWYTZoN649Ex3lIU0thTtu7EcWLEWhpWXTqldF4YaAbUvdPiqRnFPeHl97RTBHg0btH2ow1ApQMXIClCSeIjnkzHGfhIx3TS/l7ZF5O4S9jmy6dC9PBVBu0LBqP6VXMXnZa8Oae9GpoRfXnk5bEdis29jm5ky4k3c0dIsoLDEY+up9ZstlAwWetl2P4bWEGyIO/L5LPDlb5uI91i24Khjwo9lw8PeWvNIAKsZFha/lu23D3U85qgRKDT//67jTwjmzHYcNrcYg2lxi3GD8sLLy4rs9S88/PSVYhNmm36i61L7lJS1T22LCW+6nO2e9WD4WhZZ22b4zuwqWhZTI7k4euMErR+E5/tnaEYt9BRtMuk3tSOsooHLkBCgr3ZqLQesG/nYpPLsOFLIYj9W9e+4U9jnSbz1rSAXdTL+Br6RXZeiEOvJitOvEEbPkizA7DBla3UAdh1WI6VqVV5ji5c32Vdey6miR+snz8K7bH+mchIJJw7zdn7NrC58oidfHdJ56LjSbGVJTw6/M7DbpjnD2sGpTZ7cwo3UUUDlyApSU0Z3Yd3XL7wZs9si0VUEW73f8tzb1xp3/JNioUfv3Zd2tqf/JRVqle01tL8gCfjcD0v675sj+ZLS8pu/QorrC7FJhOwZOOBKUnMGuKZFPD/3a2r5qtwETDgWyzAIKKB3HkbtXNlXoe/p8Ret6Q3c/j84sHif4Hx7VoNmSF8JtlaZvGs39DMgN5AQoK+MqG5/dQ6tVaDZs0b8PhF2uk6PfPjy2YnRrR7tOC6/HCPc3+H79gQmVuLHnLg2LVlP6FM/gA63GY5noKO9JzRq5NFMcjxO0/YeK9Yeuuewb8f+5j5Ijfa4fWDq6rUOxKj0XXngvkchurdrnneM+28A3Rrf8L/sPDLBS2Oaz7adKdi0nbLzwSrj2WmpswO29Mzs6lu22XiEk6LdYd+T374xoTAByAzkBSlO4HZv13rKs3X+93IPcNk3r7mSpq2FkWbZiZfsSRlLtIiVrdR6/5nyA6EfYDty7c7Ady6vlviLOY392SLfVoO249jTlqIGGZfvfh9uKNka5bx7dvFxRHQ1dfS2ptql9o96T1pzxk78fPV2/1ZNhDCiwNC07rruwroul4tbQy8uHf1/e1NDKoXrdps0b1alcuqhhqXp95594o7CbtOJo133DHKhyAnIJOQHKEtXa6DoM2X9hfgPhaGRZzHv/F898QmIkGdGqPuH03U2drXhNzRO6FVwm1RNd52Y/jG3BREfqYeQ8e/fEihl/lhifUQej4i37NTLnTo0CTGpQ+edDD09NrJm+jTPhnfeTO26Xr9979iYq3YdmbZa5317R2oKHCZBrePpASelfLzWK1PntkvfZ2S3Ns/2yifPP2x5eX9LGii4veUbLttu0zkbCLdZ9R9VjoiN10TBt/OfFY79UysG9V79Cl98OPfc5O7+DLWtmo4DTKtF28U2fs4t6VchRQ7N+tX7LLnkeG+9kzFsMkJu4wqCsdPMdSSQSiY51q9/PenscXjS0edmM7vK6pRv0+f2fZwE31w2sQj/SvCUt1nhIc0F7j/2QYTWY6EidtEp0XPvg9dk/etYwy/Bzw3INe05cd8E37Jnr/O4VjLhLo3CQ6pVqNWW/R/C9PXNcWlU0yXgn4wotBs496BH8cNf4ZiXouwrkNqp1oTIaJlW6TtnYdfKq4Kf3Hr/09fV7/T5e38K6ZCmHmg3rlS/K35qapIZd3XolLq1YY2T/8nTmVTvdkq2mH2g1dVvA/cvXPfyDgkM/SU2sbKxtSpWv5VzNxoBsoHIalj/dkv30RV/VKj3yoWykio8HmdAq5tRn1pY+szbFBDy6+9j7TeDbtyGRsiLFrW1sSjk61atRkqsjF2mXm+Ahm/BFXzVwXhssW6vi44H68e4GJWXYnKCwg16JKg1LVGmYJ0eDbCV6bZv1b1rPXs3GY3uUoRIuv9AwsK3T/sc62e8IFDYahra1mtnWyn5HALmIXA4UZLIItz8WPU4rGrQd14GJjgAAQA6QE6C0bFsUkG8kvNg4deeHtGLxHye1ZKIjAACQE+QE4Jsm+/Rw97/eCRl+FPNgYa+pD+UbKo2dWK9IXh0YAAD4tpEToCyaE/KThGerBgwcPH6Xl3ghLlmM599928zxkG8xaD/LpTzzawIAgJwhJ0B5BIX8Ivn1rlFzPVIiTwx1ajl26w3/yCSZRJIS7Xd9568dKlX9+WiofFet+guXd7XiggcAADnEfEdQGjEhn0gNPTll8pVEiUQikXy6sWpww1WDM9vVtMvWfT870JgAAAByjOpFKIuYkE+kfrix62xEDnYs/dMu930/lWI2VAAAoARyApRGUMgfNCy67HnkOqlp8Sz2Mas7/O87D7b1s9fLs8MCAAAFAzkBSmMgc76hW6bL4ssBwbd2zf+lSz374kb/70eoZ2pdvkH30Qt3ub0OvLlh2HdmLJgAAACUxvgEKMmk47lkmboPAgI6VnX7/Va332/qPg4AAFCg0J4AAAAAQIycAAAAAECMnAAAAABAjJwAAAAAQIycAAAAAECMnAAAAABAjJwAAAAAQIycAAAAAECMnAAAAABAjJwAAAAAQIycAAAAAECMnAAAAABAjJwAAAAAQIycAAAAAECMnAAAAABAjJwAAAAAQIycAAAAAECMnAAAAABAjJwAAAAAQIycAAAAAECMnAAAAABAjJwAAAAAQIycAAAAAECMnAAAAABAjJyQ1/r16ycs3r59u27duuo6GAi1atXK2tpauKVSpUq6urrqOh4IjRo1Sli8efNmkyZN1HUwhQ2//HzL2tq6WrVqoo0WFhZqORiIjB8/Xlj09fXlcZ9nJkyYICw+efKEu9aXkcpkMnUfAwAAAIB8xM3NjfYEAAAAAGLkBAAAAABi5AQAAAAAYuQEAAAAAGLkBAAAAABi5AQAAAAAYuQEAAAAAGLkBAAAAABi5AQAAAAAYuQEAAAAAGLkBAAAAABi5AQAAAAAYuQEAAAAAGLkBAAAAABi5AQAAAAAYuQEAAAAAGLkBAAAAABi5AQAAAAAYuQEAAAAAGLkBAAAAABi5AQAAAAAYuQEAAAAAGLkBAAAAABi5AQAAAAAYuQEAAAAAGLkBAAAAABi5AQAAAAAYuQEqE5qtPfZlWO6NXNytDKUSqVGJRydmveYsP6iX6xM3YdWqKV8fLR3evuyGtL/NNgbyglRl6TQB4cWjerZomZZc0MtqVQqleqb2dhXb9pr/OI9V7wiU9R9fIVMUvjz81vnDO3YsIZjyWL6UqlUql3EwraCc4chM9e6ugclcKHkL0n+m1vqf76RSUuOuxen7iMqqKIv/2gi/QqGP5z/pO5/A1REBqhA4tuzszvaa2fyV6bj0HWR2/tkdR9k4ZMS4XloVhcHLcXTUX/P+1R1H1nhkxhyY+u0H6qZZHk/1izXacZBj8gUdR9sIRD/5vxfvSsbZP18NHN2WX4xMEHdx4r/S/Tb2EJPcHpsxrrHqvuYCqrww82+qhrZoOu5KHX/G6ACV65coT0BXy353aXZ31dsPfu4d1ImeyR6uU5tUqnDousfqC7NI6nRr47N71nFskqPuUe8ktV9NIWcLPrpjmG1SzVw+fPwk8gs90zxOTa/Z1XHLsvdI1Lz6OAKoZTQy/M72Jf6fsr+p7FZ7xl+Z+v4FvYNJx59nZA3h4bMJflvHzzmYry6D6NwSIl+F8ktCBKJhH5H+FrJbw8OqNFijltUtnuGnZnWqO6Eix+4+eQuWazv6b/61bIq33nmoee83ahdcvDJCQ1rDNz0JDHHX3l3fMJ3TiOOh5Cqc0G8987+Ts1nngzM+Tfcl3Wp9eMOv5yfQKhekt+2wWMukRLySEpUSPbPdBQOWtnvAmRGFnV7Tvvee0MEm3Qcu0yaNrxTvcoltd49vXthz+J5Ox/J6+y8V3XsXvbeqXGV9PP+YAs+WfybSxtmT5u97V7WldbIM6lh5yc06bDaS2GjSY2ew/q0qFmpQoVyllqf3r15duvc0QM7XR9GCHfy3fRDR9vbl2c4GUnz9IgLuMSXq7oP2Bsg3KRp49ylW9f2TWrY21qb6yeGB/s9uXHOdde2876Cdrhw14EtJ5e5v6KJKadDHZL8tg0eS0rIO8nCnKDZaO3VNQ2NlPoBWqZ2hqo+KKiJuvs+4duV9GZ3F1PhH5NRk7lXw0SjEJLD763uZK7wN2c7/EI4HbBV7ZP73KbFMrnKTcwUXm4Yn5BHEn02NNdTOBPlflzlFhifwW8/Ndbv9NzWiheKRFJ20t3ovD/sgi3ea3Nns8+3orbTD2QyGiQl4vG2wZU0Fc/eVHdOhzok+m5oppvBjY3xCbkm6kwn+a3LtN8V/vALK8Yn4MulvD3wy4gj8ipQ085bH56d2aiY4pNVolnUadSBG5vSnswSiSTg70GzbkQxkYhq6RUvnhAu3KBr69x15B/bz3m+j/ff1pwrPc/Jws9OmyKoAi3aftWDB7tHN7bRzaBKWqpfps3ME09Pj3IQbvVbNnpzpqN+8EV07Qfvu76mjaVtlzUPn578o2cV4wyvDQ2TagM33brxu5Ogzd1nyfj9AXQGy2tJvltdxl6mC2VeksWHh8lvXQZmBjxACjFOPr6ILOLKzPEnotPKdmNdtw+wz6jKRyKR6DkO3nV8fBn5hoA1Y/5+RW9fldKy7Ta1s7HEuHyzvpNXHLzuExnz5vbhNdMHfF/ZQldKXwk1kJq1XXdifov/N7lpOs29sH9UzYzfST/TKt5m6ZkNzQRNEKl3Fq24n81YWyhLv+LIE699Do+sUSTrC0Nq7PzrviXO8qqPlOvrTwQSFPJUku+WwWOvfE4JRY3VejCFRkpUiGBWU4OiBpqZ74uCjpyAL5HkvWXyttC0YtkpB/5oaprFH5O0SL1ZW0dYyzc8Wjj3cgRNCqokNe+wLygh4sWl3X+N7dHAzpgbu9ppmjf67czzs7/WN7UesHx8rZyMNNCxG7h6RmXBhmDXvZ7MEa9ymrraOQrPOvb9Z3UWdMz2OP6EWeHzUJLvlsHjPqcE/ZYrVnYwy/oLUInkqGDBMGbaEwo3Tj6+QOyD1csfppWKdFk8sVY285BLpCa1enWwkpc/Hlp0PJiaOZXS1DPUoeUgn9GyarXgsvetxXVzOgpQt8JPo2oLykFVeXAIAAAgAElEQVRX74Qwsa3aSE1qdRLktsRA7w+cjbyS5LvZJS0l6DVfuWlA6czW6IFKKU53RHtC4UZOgPIir6/Y+TatVH7S/A7Fs/tDSgk5MrLXRuHESEmXVx0J5ImLQkCnWCmznL/faFo2bGcvKAd7htBHT3009IuZCsYoyGQS2kHzRpLP5kHj3P5LCbrNVmweWCZnjUD4asmRwumOjEz0+MUXYuQEKC3yzpZT8ok3a4/pXz6TcQlp4p6t7NF7z3vR1ns7zgTRogCIaFvYCyc+iv8Uz5oj6pMU+kJQn6FhbmvCbOJ5Iclnk8u4q/8lZN0myze7lKUtIa+kRodGyJ/N+kUNaU4ozMgJUFb0470X5FUNNQe0K5n1czM1/OKUDhOvZ1Alen//zQ/UzQEislThZWFgqs99Wm2SA07teyovlm9dzYSq1dyX5LPJZfznlKDTaNmWIXakhLyT/CmE4Qn4jLMPJSX4nr0qn3/T8YcW1lnGhCT/Hf27rvGTbxBM5pLy6PjTGJUfIPBtSwh8KFws2LqqdXYNdsglqeEX581/IC9XGdCV99Xcl+SzcVBaStBuuHTrkHL81vMSwxMgQE6AclI/3L8of+s3q9e4lE7mO8s+uc/r7HIybYIQafWZ53d1la/SGHHvegBdrwGhBJ/jJ+XDfyR2bRpY8pRWB1ms56ruXbfL53Uz6T53kAMvrLkt0fvvQROu/fdg0Kq/ZOsw+yweMsgFGUx3lBTmcWL1lAFdWtav4WhjqiOVSjUMzKztqjbsNuqPbWc9QnmQF1z0tIRy4v1v+cpLdg3s9DLdNSXkyM8d5j1JK5t02n50ZjPpZkeJ6+fJkl7f8Y2TVOQhAHwW67F9u7e8WKJtp8zWJUHukcV6HZ0/dMBCN/mctEW7bVjRMdsZG/CVEr03ClJC3cXbRjjwgMhriR/fC1r6Q05Na7v5zMVXooVcZHEfg/0+Bvt53ji89jeJZZPRCxbN6O9cnCBd4HDTg1JSo7w95PVrpuUdTDOr6ox/tkph7LLD+KM7+pXW1izq6FAkbWOCr+c7lpsFPksJPDh19Rt5ueLIkTWzm3MYqiNLeO95ftefI5qWdey60E1ep2rQaMG5bb1sqFjLZYneGwdNuP7fM0HTedH2nx1JCXlOcXiCJPzK4XQhIZ13bquH1C3daPq5d8xiWNBw24NSkj74hslLZmWLZVx5kBp+cXKHCfKxy/rN155Y2MRUQyKR6JaobCWRfO6K9MH3Q5JEQg0EIJFIkgP3jxxzSd6Cb9RpzmDek3JX3KMlo/64GRodHRn21s/rZUBEujnYDJx+2bxvSW8HfQYw57JEr78HpqUEjTqLto/Mdi495ALF4QnpGFiUsjJI/BAUEimu5Iu/82fras//vrZ/mGPmHQ3wraE9AUpJDveXD2KWGFsWyag5QTx2ueSQf/ePcPzvhq9lYmMq3zX89QfaEwCJRCKLebLix8HH5Mv9ajVYtLyLFWMTclfi65NbD7keP33+qvuzdCFB33n87gcBt9f+SEjIfYleGwZNvPE5JdT+c8eoCqQEtUiOCkm/6njJpi7zdl3z+5Qsi3n/2sc/OCIh/r3Hmb8ntLJR3O/90eHtp7tFMJdzwUFOgFJS4z/Fy0s6hjrp/oLEY5e1nf88ubKtRdp+GobmxvIvJUdHJzE1KpDgs71v08nXE9I2GLVZv5PJINUs7s7KGb8uOeYdx00qtyV6bRg46XNKkDr9sWN0RVKCmqQoDGOWSEq0mX3qtfflLTP6NSxjlFZxIdW1qNJ62NKzPm+Ojauh0DXFe8UPI469Y3GkgoKcAKXIEmME8xpIpeJKtpSQI790FIxdNu+95/DEagodrDV09QUvP4mxiTyCUcglB7mOaOpy9KN8i92oI3tc7OhypHap/mcWdnOoOnC3T3z2O+NLJXptGDjx5ueUUHPBjrGV6LiiNprF6zcr/d+bv1atX68+Pfl721KZpjZd247Lrt2e5yRs+Qw/MHrBXSY9LyDICVCOVFPwNyN+yY9/tqpH793v0spVfzuxsbt4fQWplp4gJ6Qmp5ITUJjFe+/s7/zDdsGSCXpNV55c3MKMu3NeMG51KOhdeHR8YlxUWJDf05vHty+Z2q+hjWINiM/On2p3+/tVQiY/A18n8dX6gRNvfh7/Wn3ejvGVSQlqZFh7xhm/yNdu236ftOLqhXmNimZ3K5IaOU39Z2MrYYVg4OZ5J9/R+ahA4EkEpUh1DQV1nLHhsfK2xdTwSwpjl4t02Hbsd+ci6bv1piQJGiR1M+i6BBQSqVH3FneoNWCfICToOM++6DqqAu9JeUSqb16ieFFDXW29IsVKlKlUr8OAiX/uuvYm6uWRGa2sBPtFnBrR4ddrkdRqqFziq3UDJ6WlhGrzdk6oyl+/2kkNSjUeOHvx2HrZhoT/0y7TZ8kkR8GGuHPrLrwnKBQEvKJBKZoGZoI6g/DX4Z/v7kn+O/p3EYxdLjf22M7+ZTLqXZ2aGCvvuiTVNdRhgCAKpZTQi782rTflomDIoF6DBdfOzapvyo1ZzTSMHDvPO/Py7sJG+vKNXstcFj3Mbn5IKCfx1bqBk299fo5UnbNzYjX9LL+AfEqv8oiZTQW9B1Ju770bqb7DgcrwOIJStIuVNZeXwrzexsok6ccu6zVddXJR04zrIVJjQgWTipiWLMpITRRCSYGuv9RvueihYLJxk1bLbp6e/p0xwTmfkBrXmXrywqRy8i3eS6ccDqaOVHUSX60bIE8JlX/fOak6KeFbpVG8Wd9agnLCk8s+cZnujW8GOQFK0SpWTrAiqcz/fkBCurHLNi7/HPgl03mvkxRmVi1mZ84aHihs4r22963zw0bBsssS27677h8dXzODfnpQI2mRejO3/lwirZx4ceXhNywkpSKJL9cOmHT786+z3MR1P5dLjc5SbJIwpaUmxih8GhPPHDvqpGlWs0FJQTnoyRtyQgFAToBSpIbl6ghuBK9veAR7rurxo3zssladP06ublc880nfEwKfBKUVNEpWsmROFxQqCd5bejkPOhQi36JRdcIZ9+39ytErOx+SGjuPcLGTl+/vv/6BFgVVSAk+NGrabfmbvc/SJlbGRbJk1WZvhOAnBK9vWlz4cfE+l9LP+4+8o1O8vKWgmBoWEEmo/vaRE6Ac3VJ1HQUtAHfn92g5QT7pe7Geu10nVzfIok40MejBS3kVg+13jkZUoKLwSA46PLzpkGOCGVB1vpvp5ra4tSXtavmVrn2H1vIRzbJnF15RSaoKqdFvgxKz3w3fDg09E4XKjoRP8WTqbx85AcqRmtTsUEleTPK6L58GtfL045t62mT5viOLeHT+VVpJr2rD0tShorBIDb887ftuO97Kt+g3+uP6+TkNczilCNRDx8LBQl766P+e+VGBDMiS4pKEZU1dLeoBv308nqAkLeum7ctmsN2o7ebjs+tlMwZTFnHvoLu8gqF6l1rGKj48IJ+K9Vjaqe3SZ/IN+k2W3Dw1rQ7jlvO71IRPgmQgi42Io5IUSC/pg98HYdmomGHmXZDxrSAnQFm65bt3KyXeWHbUkd2DymY31EAWcWvbBfkijVW6N85iIANQcMgir/7WZcoNwetmxYmnXMfXoNvdNyDx3cv3gqK+sR4PThXQdpjyVKacyFPthA8Zm7HuscKPYw5/X0Rt/xxIUj8+vuInKBvblTHmUvn2cQ6hNL1K/frZKWyp+efxnCwfmxJ0bMlR+Tizai5dM1xgAShgUt4dG9V9ha98Q/Fe+84uzGTmYOQzcS+OXxWMnrUob8PUnUB6UQ/+fSBsarNvbM+lUgDwnILy9CoPmVBHuMHn9tOP2U5IJ4u6Pm/65bTei5oNx3QnJqAQSPLfMbDv7tC0sl7jJRe29rLlj19dZHHBvuE5nYdFFnl7wx7BetmaVVo48PKDgk4W53NobFuXo6E57mOXEnh0yakYwYZy7Rpa0mGgACAn4Atolflxbl8zeTnqyC+TT4dlfT+J81g58u/gtKJZ75ndSnIPQYGX8HLNj8PPyB+fFn33HRxXNas5wZCrkgMPDqzdbIZ7zhZWjn+6bvwWQa8jad1+Dc04eSjIZHHeB0Y6V+i56sxx18dRspx9J+rmXzMvC+evKvdjT8fMllHCt4ScgC8hNWsxd259wWv+hz19+//9ItPpAlPenxzTYdbTtLKG8+w5zUx52qKgS/LbNmzabXndddkxh9Z0ppJNbWSf3Od36nMw6M3237Y8z3Z609QPF6d0/vWxYItpr+mdS3D6UGDJYl/t+/m7ir3XeyRLJJKwHT36rn70KduokPLu+OgeqwMEWzTqTx5SkZhQIJAT8GW07YZs+sNJ8KYfdfqXBr03vohNf0dJDDg+uXWXzYJ7SKXf1g8uR7cLFHQpbw+MnHhVXsdWdsKe+Y3Jx2qTHHhgcNs5D1MlEknc5TFOjccf9ovP7BVIFu9zYFi9lqt9hRtrzZzbqhhPTRRccS92LfjbU16zEXFqbK06Q7Y/icy8Z3GC34FhDTvvfCfcVnrs0r6lWROmYOCOhy+lW2ncgY3thfOahh8bXtGx/UzXFxH/3WVSo73PrhxSr3yn5Y/k9x2tOn/sm17TIG8PFshzski33yeelndvsXJZM6GyNCZaCZ8iAm7vWLDqZgQTcX69hOfLuvY9JJ+3Me7eim52ZRoNXXryeXiSIC4kR3pf3jqplZ197y1ewu9r1VmwZYQ99RsoyAxqzTy6sZ2JcJPs5dZB1S0qd5vzr0e4wvIIssTQx//M7lLJvvdWb4UfUvW3/bOdjfLgaJEXpDJZzjqfARmQfbo7p2n9OQ/SVTXol3AopfvR3z9MvCKRw6gzN1a0tqDlPi9FHm9p1uli2qtm/T3vr/exoFY7lyU8XVC7ygxPFfykWuvf3B1hyzXztRID/h3Vovsmrww/NLIuX76suTQy+PUr39AMlgm26H3g4a5slpFELos63d6i3am0s2Mz1t1rRW1GlauaLPbZhp4Nfzn5Mf1H0mLl61SzszbTSwwP8vO8+zw0/Qtk0S47Hx38qRSBumBwc3PjpoevIS3y3cxTJ6Pbd156XzEQxAV7vUy/e6kBhy4tIySgMEgKOL1PFSEBKqNj2239LbcSHdvOvZV+EHN00Mv7QRnctCQSiUSzyshDJ5d1JSSgUJAaVPrZ1bPsrO7d/7wVo/iR7MPLu5czuUwkEolGhaG7j6/sTUgoUOh3hK+kadl6yY0XruOc9LLcTaN8/40PPbZ2L8kNBICaaBZrPOdqgPvWUQ3Mst9ZIpFIJMUbj9nlcXt111LZrSIJFCDa1m0WXvW/vWFIbZPsd5ZIJBKJWd0R25+4//2jvT5t1QULOQEqoFumy/Kb/rd2/Nq9mnG6D3Xsvv95+RnfR9uH1mBtRgBqpmVWe9Dqa2+8z66b1q+pQ2a9qLVt6nQZs+ZSwJsrK/tVNOTNB4WPlrnz8E3uoWFPjq0Y27FK+mf7/2la1mg/au3lN29vrh9QmQXmCyDGJ0C1EsNe3L//9OUrrzeR2sXLlHOs8l396tZ63DsA5Ecp0W8e3/P0fxv0Nig4LEbLtLilpZWNXfW6tcuZ0M0ISJMSE+Ln7evn7//a/3Xgx1SjYsUtrUo6OtV3suNKKcDc3NzICQAAAAAUuLm50Q8EAAAAgBg5AQAAAIAYOQEAAACAGDkBAAAAgBg5AQAAAIAYOQEAAACAGDkBAAAAgBg5AQAAAIAYOQEAAACAGDkBAAAAgBg5AQAAAIAYOQEAAACAGDkBAAAAgBg5AQAAAIAYOQEAAACAGDkBAAAAgBg5AQAAAIAYOQEAAACAGDkBAAAAgBg5AQAAAIAYOQEAAACAGDkBAAAAgBg5AQAAAIAYOQEAAACAGDkBAAAAgBg5AQAAAIAYOQEAAACAGDkBAAAAgBg5AQAAAIAYOQEAAACAGDkBAAAAgBg5AQAAAIAYOQEAAACAGDkBAAAAgBg5AQAAAIAYOQEAAACAGDkBAAAAgBg5AQAAAIAYOQEAAACAGDkBAAAAgBg5AQAAAIAYOQEAAACAGDkBAAAAgBg5AbkiKfTh4RVTB3Wo62BlrCuVSqUahua25Z1a9pu62tU9MDZV3cdXgEVf/tFE+hUMfzj/Sd3/hsIpyX9zS/2081By3L04dR9RYZEU/vz81jlDOzas4ViymL5UKpVqF7GwreDcYcjMta7uQQkydR9gYZQU+uDQolE9W9Qsa26oJZVKpVJ9Mxv76k17jV+854pXZIq6j69QS/n4aO/09mU1Pt+tGuwN5SIpuGSASiW8vbSkT3XjLP/qtMt3n3/cKzpV3cdaIIUfbvZV8d+g67kodf8bCqNEv40t9ATnwWase6y6j6ngi39z/q/elQ2yviTMnF2WXwxMUPexFhaJITe2TvuhmkmW50SzXKcZBz0iU9R9sIVOSoTnoVldHLQUT0f9Pe95nBdMV65coT0BqiOLebb1pyq2zSftfRyV5Y5JL/+Z0dGhTNtFN8NpWVCxlOh3kfxSvzlJ/tsHj7kYr+7DKExSQi/P72Bf6vsp+5/GZr1n+J2t41vYN5x49HVC3hxaoSWLfrpjWO1SDVz+PPwkMss9U3yOze9Z1bHLcvcIbnd5IzX61bH5PatYVukx94hXsrqPBnmHnAAVSXl3dkrjGoN3e+X4rh12dlqDmgP2ByTl5mEVOilRIVmHNOQ/SX7bBo+5RErIO/HeO/s7NZ95MjDn33Bf1qXWjzv8EnPxqAq35OCTExrWGLjpSc5/xe+OT/jOacTxEDoh5SpZrO/pv/rVsirfeeah52TlQkcr+12AbMmi7sxp027JI8WMUKJR/0Hd2zZ1rmRrphP3PsD/pfv5w3t3n3wq7/5uVb9tXUvtvD7aAi1ZmBM0G629uqahkVI/QMvUzlDVB4WsJPltGzyWlJCHEl+u6j5gb4Bwk6aNc5duXds3qWFva22unxge7PfkxjnXXdvO+wpqTsNdB7acXOb+iiam0rw+5IIuNez8hCYdVnspbDSp0XNYnxY1K1WoUM5S69O7N89unTt6YKfrwwjhTr6bfuhoe/vyDCcjTorKyeLfXNowe9rsbfeybt5Bgabuvk8oAJIC93Y1Vfiz0qjostk9NCmDfVM+PT840VlPIpFILHvu9KXPr6pFnekk7+Vu2u9KtLoPCFlL9N3QTDeDWzPjE3JTvNfmzmb//aZt204/kElP95SIx9sGV9JUODHlprpzUalYos+G5nqKv+UfV7kFxmfQ5z011u/03Nbmoqul7KS7nBRV++Q+t2mxTN4cTcwUUhnjEwosxidABVJCXEePcBXU8Fj12uLpvnlwbfOMWqs0jCr0+POfrX2d++64ufOnsjp5dpiFhCw+PExeM21gZsAlnq8l+W51GXuZpvy8pms/eN/1NW0sbbusefj05B89qxhneKFomFQbuOnWjd+dBPcynyXj9wfQ0UWFZOFnp00RNKgVbb/qwYPdoxvb6GbQQiDVL9Nm5omnp0c5CLf6LRu92ZserKqlV7x4Qrhwg66tc9eRf2w/5/k+3n9bcx4thQVnGl9HFn5+ys+u8p4uWt8tPLvVpaJhVk3AWiV/3H17d3+7jGpR8XVSokIEs5oaFDXQzHxfqFuS75bBY698TglFs54lDKqlX3Hkidc+h0fWKJJ1fxWpsfOv+5Y4yy+klOvrTwQSFFRHatZ23Yn5Lf7fJq3pNPfC/lE1M85tn2kVb7P0zIZmgiaI1DuLVtzPZjw6lKNl221qZ2OJcflmfSevOHjdJzLmze3Da6YP+L6yha6UTl6FBzkBXyXZb++sXR/SikYdtv07qVo2swwiFyVHBQuGMdOekJ8l+W4ZPO5zStBvuWJlB7OsvwAV09TVztHrjo59/1mdBcN8PI4/YY0RVdI0b/Tbmednf61vaj1g+fhaORlpoGM3cPWMyoINwa57PVlxRKWk5h32BSVEvLi0+6+xPRrYGVPpVDjxEoGvEftwzV/u8mKtOct6lWRsvDopTndEe0L+leS72SUtJeg1X7lpQGlG9OdXUpNanQTvpImB3h+YGFLFtKxaLbjsfWtx3ZzOu6Bb4adRtQXloKt3QjgrqqWpZ6hDy0FhR07AV/h0Z80O+aQhRp1n9bfnVUe9kiOF0x0Zmehxk8+Xknw2Dxrn9l9K0G22YvPAMjmr2oZaaOgXMxXUgMhkEpafzQU6xUqZ5fwRomnZsJ29oBzsGcKstYCqkRPw5WIe7TolH+Zk2ml0M3NeddQrNTo0Qt5zWr+oIc0J+VGSzyaXcVf/e6fRbbJ8s0tZAna+lhT6IlBeV61hbmtCu6n6aVvYCyc+iv8Uz5prgKqRE/DFErxPXwlLKxk26+vEOEx1S/4UwvCE/C7JZ5PL+M8pQafRsi1D7EgJ+VtywKl9T+XF8q2rmVAlkg/IUoXNOgam+tzvAFXjqsKXSg1/dNlPXqzSoQYxQe0YnpDvJflsHJSWErQbLt06pBwpIX9LDb84b/4DebnKgK4ku/wgIfChcEFt66rWzKEHqBo5AV8q/vVtQUywbVDdLO2vKfHdvQMLhnZsXNOhRBENqVRqYF6qUv0fxiw+cPN1LN16c1MG0x0lhXmcWD1lQJeW9Ws42pjqSKVSDQMza7uqDbuN+mPbWY9QevTmpUTvvwdNuPbf71yr/pKtw+xZQyRfk8V6ruredXto2gaT7nMHORAT8oEEn+Mn38qLdm0aWFIvAqgafSzxhVIjXzx8Jy/aVLfRkUgkqZH3/x49eOquxwrTBsZ9CHh+K+D5LdfVU0zrjVy+dt5PNYtyQ88NiR/fx8hLIaemtd185uIr0bTisriPwX4fg/08bxxe+5vEssnoBYtm9HcuzqtPrkv03ihICXUXbxvhQErIx2SxXkfnDx2w0E0+32bRbhtWdCxOBVs+EOuxfbu3vFiibSd7mhMAleN2hy+U8PaRoMnXxK6UkSTCfVX3KrV/EYUERRG31g6qVf6H9Z4xNCyonuLwBEn4lcPpQkI679xWD6lbutH0c++YUzB3JXpvHDTh+n+Lxmo6L9r+syMpIV+SJbz3PL/rzxFNyzp2Xegmv6QMGi04t62XDdVr+UBK4MGpq9/IyxVHjqzJyj2A6nHDK4CSAs7sOuEb/9Xv4VrmdXt0r1U0kyyZ/DEgQl4qUlz2YEGrFrPcc/SuGXrsl9otw66dm1Enm6VQC4i8OSMS8fCEdAwsSlkZJH4IColMEn0Sf+fP1tWe/31t/zBHvQy/WvDk2Un5T6LX3wPTUoJGnUXbR5an9lNBXp8RobhHS0b9cTM0Ojoy7K2f18uAiHTrLRs4/bJ535LeDvqF4paVRp0nJQvJgftHjrkk7zNp1GnO4EKSuvPpGUEBJkOBE3GitWryn/3vnvGZ/U9S3++pL9jVokkj4QR1Eo2ybUbOX7fnxLVHz589uHZs82yXRpbiH19i0MnQlLz8xahNnpwRmUwmi77mYp7uSyWbuszbdc3vU/LnvVLj33uc+XtCK5v0P3/clY+F45Tk4UmRyWQyWcKrlQ3SOnZp1P7rWfqvRF8dIFyP2Wase2xu/Lvzr7w9I6L/95Gmmf88fefxux98SMqVf3R+p86TkpnU6MeLGwpDtlaDtT6JKvrh+V7+OCMRx1oIE0b9Pe9TVfhvRP5x5coVsiS+THKkcMCsJNTt2ucpUk2bTN77KMzr9Jrffu7TvmH1ChVrNuw4+Pctbv7+xyc5CfvAB2/rM+LIOya8VqEUhWHMEkmJNrNPvfa+vGVGv4ZljNJGhEh1Laq0Hrb0rM+bY+NqKDxyvFf8MOLYu3RVqfhKiV4bBk668V9bgtTpjx2jK9KW8O2Iu7Nyxq9LjnnH0VcyH0jw2d636eTrCWkbjNqs38nUwkBuISfgy8iSYjOaKMdx2D+Pz/31Y/X0w5SleqU7/HXl9oLagk8i/52+7mmCeE98Mc3i9ZuV/u/NX6vWr1efnvy9balM30h1bTsuu3Z7npPwXIUfGL3gbkxm38CXSPTaMHDizc8poeaCHWMrFZbOXQVFqv+Zhd0cqg7c7ROv7kMp3JKDXEc0dTn6Ub7FbtSRPS52haPLEaAO5AR8GVlSvLiPu6TSlCu31ncrlfktW2pUa/KBNU0EL66vVs47/4FaOlUxrD3jjF/ka7dtv09acfXCvEbZdj6VGjlN/WdjK+H4v8DN807SyqM6ia/WD5x48/O4nerzdoyvTErId4xbHQp6Fx4dnxgXFRbk9/Tm8e1LpvZraKM4FsFn50+1u/39ipoNNYn33tnf+Yftgvkz9JquPLm4hRnvMUAuUnffJ3yj4h5MLqXwl6TbdL13Qk6+GX1rtLBjvG6bf0Pp2ahWcU9mOQpPpWaT3cGFZZRCbkt4ubyevGtXtXmPMx9zUOjHJ+Q/KZ9eHpnRykrxmekw4WoEd6y8lhLp/leLIgonQsd59o1CM5wqv2F8QmHB+AR8Mam2nkKH0Krz/nYpl6PGX0OnUaMryYsJNw8+jlbtsUE5epVHzGwqGKeQcnvv3Uj1HU4Bkvhq3cDJtz63JVSds3NiNX21HhCUomHk2HnemZd3FzYSnDavZS6LHmY32zBUKSX04q9N6025KJhwW6/BgmvnZtU35RUGyGVcZPgyGjqGwlRgYF+9RE67iGqXat2htLwY9eBGAGsCq5VG8WZ9awnKCU8u+8RlujdyKPHVugHylFD5952TqpMSvj1S4zpTT16YVE6+xXvplMPBdM3LI0mBrr/Ub7nooWDKbZNWy26env6dceGaohZQD3ICvoxUx1A4PlaqocQtW69MgwqCxoigJ2/p8atemmY1G5QUlIOevCEnfKXEl2sHTLr9+eWm3MR1P5dLjc5SbJLw3TM1MUbh05h45qFSF2mRejO3/lwirZx4ceXhNyxLmAfivbb3rfPDRsGyyxLbvrvuHx1fs3AsvQOoHzkBX0bT0NxQUIyPjFPiLUbX0l4wzX9MSNjXLxqDr6JTvLxwfYvUsLI9FcQAAAkrSURBVIBIXoO+RkrwoVHTbsuvCZ+lTayMi2TJqs1ewcqFkuD1TYsLPy7e51IW65wjd0mNnUe42MnL9/df/0CLQi5L8N7Sy3nQoRD5Fo2qE864b+9XjpkAgDxDTsCXkepbljKWF1PC3kTk/MVSw8BU2AEjISaRR656aeiZKDx6Ez7Fc0q+Rmr02yB60xUkuvYdWstHNMueXXhFk1tuSg46PLzpkGOCGVB1vpvp5ra4taVqVhkDkDPkBHwhXetqwmmL3tx7o0TnodQU4Vuojr42f4jqJUuKU5jmVlNXi2Z9QEDHwsFCXvro/57ekrkmNfzytO+77Xgr36Lf6I/r5+c0zHamZwAqxkWHL6RdooajoFEg/OaV1zmuP02OChF0odA1M9PjpVS9kj74fRCWjYoZplspDyjMUhM+CZKBLDYijia33BHrsbRT26XP5Bv0myy5eWpaHcYtA2pATsCXMqzURjC9qcTr4KnX6VZey1jKxxdPBW+lJapYs5qmeqV+fHzFT1A2titjzL3ha2g7THmq5DzVkafaCa8D8foJMYe/L5Lp/w65L/Hdy/eCor6xHpdILpBFXv2ty5QbgkhWceIp1/E1jAgJgFpwo8OX0rRs2E4wV6Dk6Q5Xv5wFhU+PT3jKS3qVG5RmWJp6RT3494GwctS+sT0zeAICcS+OXxWMM7cob8Mlonop746N6r7CV76heK99Zxc2pbsRoDZcffhiug7dewlmAJF4/rXgSkT2ExfJwm/suCIfAiit+UNN6klVSBbnc2hsW5ejoTnuFZESeHTJqRjBhnLtGlrS7QgFmywu2Dc8p5MvyCJvb9gTKC9rVmnhQE5QtST/HQP77g5NK+s1XnJhay9b7Sy+AiCXkRPw5XQrDhhRTVD+sHPCqifZLVSa/PrA/H+j0ooa9Vy+t+KdVEVkcd4HRjpX6LnqzHHXx1E5m2xWFnXzr5mXhWNLyv3Y01E30/2BAiA58ODA2s1muOdsYeX4p+vGbxH0OpLW7dfQjI4wqpXwcs2Pw8/IKyws+u47OK6qAb9mQK3ICfgK2vYDZnU2Emzw/L3rtCsfs6jITn69c/ik2/IdinSe0qUkMUEVZLGv9v38XcXe6z2SJRJJ2I4efVc/+pRtVEh5d3x0j9UBgi0a9ScPqUhMQAEm++Q+v1Ofg0Fvtv+25Xm205umfrg4pfOvjwVbTHtN71yC25ZKJfltGzbttrx9p+yYQ2s606wJqB05AV9Do3inJQvqCe/lfqvbtpt58X2GzfnJISfHtxl8TlCDV23a/Dbm1BepRNyLXQv+9pT/4iNOja1VZ8j2J5GZL4CX4HdgWMPOO98Jt5Ueu7RvaWYoR8GVHHhgcNs5D1MlEknc5TFOjccf9st0oUdZvM+BYfVarvYVbqw1c26rYjw7VSnl7YGRE6/KWzXLTtgzv7EpjwZA/bjX4eto2w/fuqShcJ6W+Nt/tKzcauK2WyGCvixJYQ/3TGheucOaF/JtmnX+3DO+EjXXKmJQa+bRje1MhJtkL7cOqm5Ruducfz3CFYaYyxJDH/8zu0sl+95bvRV+SNXf9s92NpIABVXC82Vd+x6Sz7cWd29FN7syjYYuPfk8PEkQF5IjvS9vndTKzr73Fi/h97XqLNgywp4u86oki3T7feJpeQWSlcuaCZWlMdFK+BQRcHvHglU3I5isFlAtqUyWs07MQKaSgw4Pce62I1C8Xc+qfJWK5ax0ogOf3XkUIFqVyKjN5ifHBpfleatKsthnG3o2/OXkx/QfSYuVr1PNztpMLzE8yM/z7vPQ9Bd+0S47Hx38qRSnRD2iTre3aHcqLVzbjHX3WlGbsbIqlxjw76gW3Td5ZfihkXX58mXNpZHBr1/5hmawIIxF7wMPd/W0ocFNlRKeLqhdZYZn9jtmq9b6N3dH2NJZKfdFHm9p1uliWiirv+f99T4WtP8UQG5ubtzu8PW0rH/YeOOQXrvefz9V6OMSH/LyXsjLjL5h0Xn9lb0uhARVkxpU+tnVs+ys7t3/vBWj+JHsw8u7lzM8GRKJRCLRqDB09/GVvQkJKOh0bLutv+VWomPbubfSD2KODnp5PyiTy0SzyshDJ5d1JSSoWFLA6X2qCAkAcgP9jqASOqW6b7jnfWRSvez7rJRoNePkw0MjKjGPRe7Qtm6z8Kr/7Q1Daptkv7NEIpFIzOqO2P7E/e8f7fU5JSgMNIs1nnM1wH3rqAZmOfxG8cZjdnncXt21FEtCAihUyAlQGb0ynRdfff3w0J9Dm5fN6GmqV7bJwIUnfX3OzGtnQ7V1rtIydx6+yT007MmxFWM7VjHOZC9NyxrtR629/ObtzfUDKrPcKQoVLbPag1Zfe+N9dt20fk0dMqvf0Lap02XMmksBb66s7FfRkGsEQGHD+ATkBll8yLMHT176+Pq/DonRNbcpWcq+ZsN6FcyIB+qQEhPi5+3r5+//2v914MdUo2LFLa1KOjrVd7IzoQsFIJFIUqLfPL7n6f826G1QcFiMlmlxS0srG7vqdWuX4xoBUGi5ubmREwAAAAAocHNzo98RAAAAADFyAgAAAAAxcgIAAAAAMXICAAAAADFyAgAAAAAxcgIAAAAAMXICAAAAADFyAgAAAAAxcgIAAAAAMXICAAAAADFyAgAAAAAxcgIAAAAAMXICAAAAADFyAgAAAAAxcgIAAAAAMXICAAAAADFyAgAAAAAxcgIAAAAAMXICAAAAADFyAgAAAAAxcgIAAAAAMXICAAAAADFyAgAAAAAxcgIAAAAAMXICAAAAADFyAgAAAAAxcgIAAAAAMXICAAAAADFyAgAAAAAxcgIAAAAAMXICAAAAADFyAgAAAAAxcgIAAAAAMXICAAAAADFyAgAAAAAxcgIAAAAAMXICAAAAADFyAgAAAAAxcgIAAAAAMXICAAAAADFyAgAAAAAxcgIAAAAAMXICAAAAADFyAgAAAAAxcgIAAAAAMXICAAAAADFyAgAAAAAxcgIAAAAAMXICAAAAADFyAgAAAAAxcgIAAAAAMXICAAAAADFyAgAAAAAxcgIAAAAAMXICAAAAADFyAgAAAAAxcgIAAAAAMXICAAAAADFyAgAAAAAxcgIAAAAAMXICAAAAADEtNzc3dR8DAAAAgHzEzMzsf1OBfyKI30ACAAAAAElFTkSuQmCC)"
      ]
    },
    {
      "cell_type": "markdown",
      "metadata": {
        "id": "e0e_hr2LJ969",
        "colab_type": "text"
      },
      "source": [
        "### 3.4.5. スライス\n",
        "Pythonのスライスを使えば、 以下のように、2、3、4番目の文字 'tho' という文字列を取り出せます。\n",
        "\n",
        "```\n",
        "▶ 'python'[2:5]\n",
        "'tho'\n",
        "```\n",
        "（コードを書いて実際に動かしてみよう）"
      ]
    },
    {
      "cell_type": "code",
      "metadata": {
        "id": "j0U050XxKUJs",
        "colab_type": "code",
        "colab": {}
      },
      "source": [
        ""
      ],
      "execution_count": null,
      "outputs": []
    },
    {
      "cell_type": "markdown",
      "metadata": {
        "id": "19Rl3wppKUt4",
        "colab_type": "text"
      },
      "source": [
        "取り出す文字列の位置は、整数型を2つ、コロン（:）で挟んで指定します。\n",
        "\n",
        "指定する位置は、「（取り出す文字列に）含める文字の開始位置のインデックス」から「含めずに切り捨てる文字の開始位置のインデックス」と考えられます。\n",
        "\n",
        "「インデックスが2の位置の 't' から始まり、インデックスが5の位置の 'n' 以降を切り捨てた」文字列、'tho' が返されます。"
      ]
    },
    {
      "cell_type": "markdown",
      "metadata": {
        "id": "MX9_u74_Kmj6",
        "colab_type": "text"
      },
      "source": [
        "また先頭を含む文字列のスライスは、 以下のように切り出し、切り捨て位置を省略して指定します。\n",
        "\n",
        "```\n",
        "▶ 'python'[:3]\n",
        "'pyt\n",
        "```\n",
        "（コードを書いて実際に動かしてみよう）"
      ]
    },
    {
      "cell_type": "code",
      "metadata": {
        "id": "l4snpUekKsQY",
        "colab_type": "code",
        "colab": {}
      },
      "source": [
        ""
      ],
      "execution_count": null,
      "outputs": []
    },
    {
      "cell_type": "markdown",
      "metadata": {
        "id": "cKUqCTYgKsa2",
        "colab_type": "text"
      },
      "source": [
        "さらに末尾を含む文字列のスライスは、 以下のように切り出し、切り捨て位置を省略して指定します。\n",
        "\n",
        "```\n",
        "▶ 'python'[4:]\n",
        "'on'\n",
        "```\n",
        "（コードを書いて実際に動かしてみよう）"
      ]
    },
    {
      "cell_type": "code",
      "metadata": {
        "id": "0U9dwifILNIW",
        "colab_type": "code",
        "colab": {}
      },
      "source": [
        ""
      ],
      "execution_count": null,
      "outputs": []
    },
    {
      "cell_type": "markdown",
      "metadata": {
        "id": "bKGcVmZdLNb8",
        "colab_type": "text"
      },
      "source": [
        "### 3.4.6. 文字列の長さ（len()関数）\n",
        "\n",
        "文字列の長さを調べるには、 len() 関数を使います。 戻り値は整数型です。\n",
        "\n",
        "```\n",
        "▶ len('python')\n",
        "6\n",
        "```\n",
        "（コードを書いて実際に動かしてみよう）"
      ]
    },
    {
      "cell_type": "markdown",
      "metadata": {
        "id": "HVV8f3IFLgsN",
        "colab_type": "text"
      },
      "source": [
        "### 3.4.7. 文字列の有無（in演算子）\n",
        "\n",
        "文字列中にある文字列が存在するかどうかを調べるには、 in 演算子を使います。\n",
        "\n",
        "文字列中にある文字列が存在するかのチェック"
      ]
    },
    {
      "cell_type": "markdown",
      "metadata": {
        "id": "Uq5lT_m7LqY6",
        "colab_type": "text"
      },
      "source": [
        "```\n",
        "▶ 't' in 'python'\n",
        "True\n",
        "```\n",
        "（コードを書いて実際に動かしてみよう）"
      ]
    },
    {
      "cell_type": "code",
      "metadata": {
        "id": "4uCJLODBLq8n",
        "colab_type": "code",
        "colab": {}
      },
      "source": [
        ""
      ],
      "execution_count": null,
      "outputs": []
    },
    {
      "cell_type": "markdown",
      "metadata": {
        "id": "IaEQw9vHLrtX",
        "colab_type": "text"
      },
      "source": [
        "```\n",
        "▶ 'k' in 'python'\n",
        "False\n",
        "```\n",
        "（コードを書いて実際に動かしてみよう）"
      ]
    },
    {
      "cell_type": "code",
      "metadata": {
        "id": "WUSGI8wqLsIo",
        "colab_type": "code",
        "colab": {}
      },
      "source": [
        ""
      ],
      "execution_count": null,
      "outputs": []
    },
    {
      "cell_type": "markdown",
      "metadata": {
        "id": "xCDYihMKLt8a",
        "colab_type": "text"
      },
      "source": [
        "```\n",
        "▶ 'th' in 'python'\n",
        "True\n",
        "```\n",
        "（コードを書いて実際に動かしてみよう）"
      ]
    },
    {
      "cell_type": "code",
      "metadata": {
        "id": "usL6Y0uYLuXk",
        "colab_type": "code",
        "colab": {}
      },
      "source": [
        ""
      ],
      "execution_count": null,
      "outputs": []
    },
    {
      "cell_type": "markdown",
      "metadata": {
        "id": "zHHTmeI0MMcY",
        "colab_type": "text"
      },
      "source": [
        "### 3.4.8. 文字列の分割（.split()メソッド）\n",
        "\n",
        "文字列を分割するには、 .split() メソッドを使います。\n",
        "\n",
        "分割したい文字列に対してメソッドを呼び出し、引数に**区切り文字（デリミタ）**を指定します。\n",
        "\n",
        "ハイフンで文字列を区切るには、 以下のようにします。\n",
        "\n",
        "**文字列の分割**\n",
        "```\n",
        "▶ 'pain-au-chocolat'.split('-')\n",
        "['pain', 'au', 'chocolat']\n",
        "```\n",
        "（コードを書いて実際に動かしてみよう）"
      ]
    },
    {
      "cell_type": "code",
      "metadata": {
        "id": "6r0-0te2M2Xj",
        "colab_type": "code",
        "colab": {}
      },
      "source": [
        ""
      ],
      "execution_count": null,
      "outputs": []
    },
    {
      "cell_type": "markdown",
      "metadata": {
        "id": "KgCyAbWpM-gA",
        "colab_type": "text"
      },
      "source": [
        "### 3.4.9. 区切り文字による文字列の結合（.join()メソッド）\n",
        "\n",
        "文字列を区切り文字で結合するには、 .join() メソッドを使います。\n",
        "\n",
        "区切り文字に対してメソッドを呼び出し、引数に結合したい文字列のリストを指定します（リスト 3.17）。\n",
        "\n",
        "文字列の結合\n",
        "\n",
        "```\n",
        "▶ '-'.join(['pain', 'de', 'campagne'])\n",
        "'pain-de-campagne'\n",
        "```\n",
        "（コードを書いて実際に動かしてみよう）"
      ]
    },
    {
      "cell_type": "code",
      "metadata": {
        "id": "lB6HUNeyNXpP",
        "colab_type": "code",
        "colab": {}
      },
      "source": [
        ""
      ],
      "execution_count": null,
      "outputs": []
    },
    {
      "cell_type": "markdown",
      "metadata": {
        "id": "lFucZXoxNsVx",
        "colab_type": "text"
      },
      "source": [
        "# 4. Pythonのデータ型（コレクション編）\n",
        "\n",
        "Pythonのデータ型のうち、複数のデータ型をひとまとめにして扱えるコレクションを紹介します。"
      ]
    },
    {
      "cell_type": "markdown",
      "metadata": {
        "id": "yPYbNakuPjhJ",
        "colab_type": "text"
      },
      "source": [
        "## 4.1. はじめに\n",
        "\n",
        "コレクションにはいくつかの種類がありますが、今回はそのうちのリスト（list）について扱います。"
      ]
    },
    {
      "cell_type": "markdown",
      "metadata": {
        "id": "Vq4phSNVR-L7",
        "colab_type": "text"
      },
      "source": [
        "## 4.2. リスト（list）\n",
        "\n",
        "リストはコレクションの1つです。複数の型のデータをひとまとめにできます。\n",
        "\n",
        "リストを定義するには角括弧（[ ]）を使い、含める要素をカンマ（,）で区切ります。\n",
        "\n",
        "**リストの定義**\n",
        "```\n",
        "▶ ['spam', 'egg', 0.5]\n",
        "['spam', 'egg', 0.5]\n",
        "```\n",
        "（コードを書いて実際に確認してみよう）"
      ]
    },
    {
      "cell_type": "code",
      "metadata": {
        "id": "DNk1tjnfSN6U",
        "colab_type": "code",
        "colab": {}
      },
      "source": [
        ""
      ],
      "execution_count": null,
      "outputs": []
    },
    {
      "cell_type": "markdown",
      "metadata": {
        "id": "YA4n6wVKT4Ri",
        "colab_type": "text"
      },
      "source": [
        "### 4.2.0 リストの結合、スライス\n",
        "\n",
        "リストも文字列と同様に、結合やスライスが使えます。"
      ]
    },
    {
      "cell_type": "markdown",
      "metadata": {
        "id": "NmGY4qbPSOLc",
        "colab_type": "text"
      },
      "source": [
        "#### **リストの結合**\n",
        "```\n",
        "▶ ['spam', 'ham'] + ['egg']\n",
        "['spam', 'ham', 'egg']\n",
        "```\n",
        "（コードを書いて実際に確認してみよう）"
      ]
    },
    {
      "cell_type": "code",
      "metadata": {
        "id": "Vrz-8Ya3TwM_",
        "colab_type": "code",
        "colab": {}
      },
      "source": [
        ""
      ],
      "execution_count": null,
      "outputs": []
    },
    {
      "cell_type": "markdown",
      "metadata": {
        "id": "uew5wxNtTtrZ",
        "colab_type": "text"
      },
      "source": [
        "#### **リストの繰り返し**\n",
        "```\n",
        "▶ ['spam'] * 5\n",
        "['spam', 'spam', 'spam', 'spam', 'spam']\n",
        "```\n",
        "（コードを書いて実際に確認してみよう）"
      ]
    },
    {
      "cell_type": "code",
      "metadata": {
        "id": "xlqYwBvyTuFC",
        "colab_type": "code",
        "colab": {}
      },
      "source": [
        ""
      ],
      "execution_count": null,
      "outputs": []
    },
    {
      "cell_type": "markdown",
      "metadata": {
        "id": "xIMVZuGDTrBV",
        "colab_type": "text"
      },
      "source": [
        "#### **リストの0番目を取得する**\n",
        "```\n",
        "▶ ['spam', 'ham', 'egg'][0]\n",
        "'spam'\n",
        "```\n",
        "（コードを書いて実際に確認してみよう）"
      ]
    },
    {
      "cell_type": "code",
      "metadata": {
        "id": "Sx9oFK4JTra-",
        "colab_type": "code",
        "colab": {}
      },
      "source": [
        ""
      ],
      "execution_count": null,
      "outputs": []
    },
    {
      "cell_type": "markdown",
      "metadata": {
        "id": "L2_LIAKtTnjw",
        "colab_type": "text"
      },
      "source": [
        "#### **リストのスライス(1番目以降)**\n",
        "```\n",
        "▶ ['spam', 'ham', 'egg'][1:]\n",
        "['ham', 'egg']\n",
        "```\n",
        "（コードを書いて実際に確認してみよう）"
      ]
    },
    {
      "cell_type": "code",
      "metadata": {
        "id": "fAik0o5IToCW",
        "colab_type": "code",
        "colab": {}
      },
      "source": [
        ""
      ],
      "execution_count": null,
      "outputs": []
    },
    {
      "cell_type": "markdown",
      "metadata": {
        "id": "J_xg4BDOTkF_",
        "colab_type": "text"
      },
      "source": [
        "#### **リストの長さ**\n",
        "```\n",
        "▶ len(['spam', 'ham', 'egg']) \n",
        "3\n",
        "```\n",
        "\n",
        "（コードを書いて実際に確認してみよう）"
      ]
    },
    {
      "cell_type": "code",
      "metadata": {
        "id": "Z511WlR-TlJg",
        "colab_type": "code",
        "colab": {}
      },
      "source": [
        ""
      ],
      "execution_count": null,
      "outputs": []
    },
    {
      "cell_type": "markdown",
      "metadata": {
        "id": "OoxVI5mcTfA2",
        "colab_type": "text"
      },
      "source": [
        "#### **リストに特定の文字列が含まれるか**\n",
        "```\n",
        "▶ 'ham' in ['spam', 'ham', 'egg']\n",
        "True\n",
        "```\n",
        "（コードを書いて実際に確認してみよう）"
      ]
    },
    {
      "cell_type": "code",
      "metadata": {
        "id": "DtemiTHoTf_C",
        "colab_type": "code",
        "colab": {}
      },
      "source": [
        ""
      ],
      "execution_count": null,
      "outputs": []
    },
    {
      "cell_type": "markdown",
      "metadata": {
        "id": "M5pwkppZUtJv",
        "colab_type": "text"
      },
      "source": [
        "### 4.2.1. for文\n",
        "\n",
        "リストは、 for 文の繰り返し用変数として使えます。\n",
        "\n",
        "\n",
        "``` \n",
        "▶ for animal in ['cat', 'dog', 'snake']:\n",
        "▶   print(animal)\n",
        "cat\n",
        "dog\n",
        "snake\n",
        "```\n",
        "（コードを書いて実際に確認してみよう）"
      ]
    },
    {
      "cell_type": "code",
      "metadata": {
        "id": "SEFglj3kU7Ut",
        "colab_type": "code",
        "colab": {}
      },
      "source": [
        ""
      ],
      "execution_count": null,
      "outputs": []
    },
    {
      "cell_type": "markdown",
      "metadata": {
        "id": "RcleB9tgVGKo",
        "colab_type": "text"
      },
      "source": [
        "### 4.2.2. 要素の追加\n",
        "\n",
        "リストに要素を追加するには、 .append() メソッドを使います。 .append() メソッドはリストの末尾に要素を追加します。\n",
        "\n",
        "リストは変更可能なオブジェクトです。 .append() メソッドによって、 animals というリストの内容が変更されます。\n",
        "\n",
        "```\n",
        "▶ animals = ['cat', 'dog', 'snake']\n",
        "▶ animals.append('elephant')\n",
        "▶ animals\n",
        "['cat', 'dog', 'snake', 'elephant']\n",
        "```\n",
        "（コードを書いて実際に確認してみよう）"
      ]
    },
    {
      "cell_type": "code",
      "metadata": {
        "id": "iIT5h8vdVVDW",
        "colab_type": "code",
        "colab": {}
      },
      "source": [
        ""
      ],
      "execution_count": null,
      "outputs": []
    },
    {
      "cell_type": "markdown",
      "metadata": {
        "id": "TKrJnMuSVfem",
        "colab_type": "text"
      },
      "source": [
        "### 4.2.3. リスト内包表記\n",
        "\n",
        "リスト内包表記はリストの定義方法の1つです。 比較的複雑なリストの定義を、シンプルに記述できます。\n",
        "\n",
        "for 文の例として animals リストから各文字列の長さの一覧を作ります。\n",
        "\n",
        "・ 一般的なfor文\n",
        "```\n",
        "▶ ret = []\n",
        "▶ for animal in animals:\n",
        "▶   ret.append(len(animal))\n",
        "▶ ret\n",
        "[3, 3, 5, 8]\n",
        "```\n",
        "（コードを書いて実際に確認してみよう）"
      ]
    },
    {
      "cell_type": "code",
      "metadata": {
        "id": "dzAdruGdWeCc",
        "colab_type": "code",
        "colab": {}
      },
      "source": [
        ""
      ],
      "execution_count": null,
      "outputs": []
    },
    {
      "cell_type": "markdown",
      "metadata": {
        "id": "PE7tULLCWeNA",
        "colab_type": "text"
      },
      "source": [
        "\n",
        "上の「一般的なfor文」の記述をリスト内包表記に置き換えると、以下のようになります\n",
        "\n",
        "・ リスト内包表記\n",
        "```\n",
        "▶ [len(animal) for animal in animals]\n",
        "[3, 3, 5, 8]\n",
        "```\n",
        "（コードを書いて実際に確認してみよう）"
      ]
    },
    {
      "cell_type": "code",
      "metadata": {
        "id": "hKn89ai5We9k",
        "colab_type": "code",
        "colab": {}
      },
      "source": [
        ""
      ],
      "execution_count": null,
      "outputs": []
    },
    {
      "cell_type": "markdown",
      "metadata": {
        "id": "F6AN0vMNWste",
        "colab_type": "text"
      },
      "source": [
        "3行で記述していたコードが1行になりました。内包表記を使うと簡潔に記述できることがわかったと思います。 最初は見慣れないかもしれませんが、徐々に慣れていくと良いと思います。\n",
        "\n",
        "リストの定義時に、角括弧（[ ]）の内部に for を書きます。 for ＜変数名＞ in の部分は通常の for 文と同じです。\n",
        "\n",
        "for の左側でひとつひとつ取り出した要素（ここでは animal）を使い、リストの各要素を作ります。 リスト 4.6 の場合、 len(animal) の結果が各要素になります。\n",
        "\n",
        "リスト内包表記は、条件文や複数回のループ処理も記述できます。 複雑にしすぎると、かえって可読性を落としますので、ほどほどに使用することをおすすめします。複雑になりすぎる場合はループ処理で書きましょう。 リスト内包表記の仲間に、辞書(次回講義で説明)を生成する辞書内包表記や、セット(次回講義で説明)を生成するセット内包表記やジェネレータ式(講義では説明しません)などもあります。 内包表記はPythonの強力な機能の1つなのでぜひ覚えておくとよいでしょう。"
      ]
    },
    {
      "cell_type": "markdown",
      "metadata": {
        "id": "n5tFw45FXKAR",
        "colab_type": "text"
      },
      "source": [
        "他にも役に立つ書き方があるので、Pythonのドキュメントを参考にしてください。\n",
        "\n",
        "リストの内包表記 https://docs.python.org/ja/3/tutorial/datastructures.html#list-comprehensions"
      ]
    },
    {
      "cell_type": "markdown",
      "metadata": {
        "id": "roq0qxGrXPxL",
        "colab_type": "text"
      },
      "source": [
        "### 4.2.4. 複数変数への代入\n",
        "\n",
        "リストのようなシーケンス型から他のデータ型に値を代入する際、複数の変数への代入を一度に行えます。\n",
        "\n",
        "・　シーケンス型から複数変数への代入\n",
        "```\n",
        "▶ dog, cat = ['wan', 'nyao']\n",
        "▶ dog\n",
        "'wan'\n",
        "```\n",
        "（コードを書いて実際に確認してみよう）"
      ]
    },
    {
      "cell_type": "code",
      "metadata": {
        "id": "brChGPrFXogb",
        "colab_type": "code",
        "colab": {}
      },
      "source": [
        ""
      ],
      "execution_count": null,
      "outputs": []
    },
    {
      "cell_type": "markdown",
      "metadata": {
        "id": "PrcdXIOfYCfT",
        "colab_type": "text"
      },
      "source": [
        "（続き）\n",
        "```\n",
        "▶ cat\n",
        "'nyao'\n",
        "```\n",
        "（コードを書いて実際に確認してみよう）"
      ]
    },
    {
      "cell_type": "code",
      "metadata": {
        "id": "AXELz0sMYM_4",
        "colab_type": "code",
        "colab": {}
      },
      "source": [
        ""
      ],
      "execution_count": null,
      "outputs": []
    },
    {
      "cell_type": "markdown",
      "metadata": {
        "id": "5yoaYpiYX0BH",
        "colab_type": "text"
      },
      "source": [
        "複数の変数への代入は、右辺が文字列やタプル（次回講義で説明）の場合でも可能です。"
      ]
    },
    {
      "cell_type": "markdown",
      "metadata": {
        "colab_type": "text",
        "id": "YNIeKrM-V_Q6"
      },
      "source": [
        "# 5.条件分岐と繰り返し\n",
        "\n",
        "Colaboratory（略称: Colab）では、ブラウザから Python を記述し実行できるほか、次の特長を備えています。 \n",
        "- 構成が不要\n",
        "- GPU への無料アクセス\n",
        "- 簡単に共有\n",
        "\n",
        "Colab は、<strong>学生</strong>、<strong>データ サイエンティスト</strong>、<strong>AI リサーチャー</strong>の皆さんの作業を効率化します。詳しくは、<a href=\"https://www.youtube.com/watch?v=inN8seMm7UI\">Colab のご紹介</a>をご覧ください。下からすぐに使ってみることもできます。"
      ]
    },
    {
      "cell_type": "markdown",
      "metadata": {
        "id": "wsXj_6-MPiy2",
        "colab_type": "text"
      },
      "source": [
        ""
      ]
    },
    {
      "cell_type": "code",
      "metadata": {
        "id": "NwPiLBySKTVm",
        "colab_type": "code",
        "colab": {}
      },
      "source": [
        ""
      ],
      "execution_count": null,
      "outputs": []
    },
    {
      "cell_type": "code",
      "metadata": {
        "id": "uLyaSxLvJc2R",
        "colab_type": "code",
        "colab": {}
      },
      "source": [
        ""
      ],
      "execution_count": null,
      "outputs": []
    },
    {
      "cell_type": "code",
      "metadata": {
        "id": "J8nzT2tYVibi",
        "colab_type": "code",
        "colab": {}
      },
      "source": [
        "for i in range(5):\n",
        "  print(i)"
      ],
      "execution_count": null,
      "outputs": []
    },
    {
      "cell_type": "markdown",
      "metadata": {
        "id": "OTrJ3s1nVs4z",
        "colab_type": "text"
      },
      "source": [
        ""
      ]
    }
  ]
}