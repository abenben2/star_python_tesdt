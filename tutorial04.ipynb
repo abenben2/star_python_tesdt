{
  "nbformat": 4,
  "nbformat_minor": 0,
  "metadata": {
    "colab": {
      "name": " tutorial04.ipynb ",
      "provenance": [],
      "authorship_tag": "ABX9TyPJNUV21HFHaL/HtKX2aphj",
      "include_colab_link": true
    },
    "kernelspec": {
      "name": "python3",
      "display_name": "Python 3"
    }
  },
  "cells": [
    {
      "cell_type": "markdown",
      "metadata": {
        "id": "view-in-github",
        "colab_type": "text"
      },
      "source": [
        "<a href=\"https://colab.research.google.com/github/abenben2/star_python_tesdt/blob/master/tutorial04.ipynb\" target=\"_parent\"><img src=\"https://colab.research.google.com/assets/colab-badge.svg\" alt=\"Open In Colab\"/></a>"
      ]
    },
    {
      "cell_type": "code",
      "metadata": {
        "id": "zP62qwSdW-lP",
        "colab_type": "code",
        "colab": {}
      },
      "source": [
        ""
      ],
      "execution_count": null,
      "outputs": []
    },
    {
      "cell_type": "markdown",
      "metadata": {
        "id": "vGWEolnGYIUx",
        "colab_type": "text"
      },
      "source": [
        "**Python基礎講座（3日目）**\n",
        "\n",
        "* [「Python・ブロックチェーン講座」の日程](https://www.facebook.com/photo.php?fbid=1186715631679052&set=gm.752573365315679&type=3&theater&ifg=1)\n",
        "\n",
        "---\n",
        "# 前回学んだこと\n",
        "\n",
        "* 前回（2日目のチュートリアル）\n",
        " * https://github.com/abenben/starproject-python/blob/master/tutorial03.ipynb\n",
        "\n",
        "## モジュールのインポート\n",
        "\n",
        "```python\n",
        "import datetime\n",
        "```\n",
        "\n",
        "## データ型\n",
        "\n",
        "* リスト型\n",
        "\n",
        "```python\n",
        "?????\n",
        "```\n",
        "\n",
        "* 日付型\n",
        "\n",
        "```python\n",
        "?????\n",
        "```\n",
        "\n",
        "## 繰り返しと分岐\n",
        "\n",
        "* if\n",
        "\n",
        "```python\n",
        "?????\n",
        "```\n",
        "\n",
        "* for\n",
        "\n",
        "\n",
        "```python\n",
        "?????\n",
        "```\n",
        "\n",
        "* while\n",
        "\n",
        "```python\n",
        "?????\n",
        "```\n",
        "\n",
        "---\n",
        "\n",
        "# 今日やること\n",
        "\n",
        "## 1.データ構造（リスト、タプル、集合、辞書）\n",
        "\n",
        "## 2.関数\n",
        "\n",
        "## 3.エラー処理"
      ]
    },
    {
      "cell_type": "markdown",
      "metadata": {
        "id": "XPLHIK4jgSwi",
        "colab_type": "text"
      },
      "source": [
        "# 1.データ構造\n",
        "\n",
        "## 1.1 はじめに\n",
        "\n",
        "## 1.2. リスト（list）[復習]\n",
        "\n",
        "リストはコレクションの1つです。複数の型のデータをひとまとめにできます。\n",
        "\n",
        "リストを定義するには角括弧（[ ]）を使い、含める要素をカンマ（,）で区切ります。\n",
        "\n",
        "**リストの定義**\n",
        "\n",
        "```\n",
        "▶ ['spam', 'egg', 0.5]\n",
        "['spam', 'egg', 0.5]\n",
        "```\n",
        "（コードを書いて実際に確認してみよう）"
      ]
    },
    {
      "cell_type": "markdown",
      "metadata": {
        "id": "Tb9r-LHSYHPN",
        "colab_type": "text"
      },
      "source": [
        "list = [0,1,2,3]"
      ]
    },
    {
      "cell_type": "markdown",
      "metadata": {
        "id": "nNP-vHh5hQ1h",
        "colab_type": "text"
      },
      "source": [
        "## 1.3. タプル（list）\n",
        "タプルもコレクションの1つです。xxx\n",
        "\n",
        "xxx\n",
        "\n",
        "リストの定義\n",
        "\n",
        "▶ (1,4,9,16,25)\n",
        "['spam', 'egg', 0.5]\n",
        "（コードを書いて実際に確認してみよう）"
      ]
    },
    {
      "cell_type": "code",
      "metadata": {
        "id": "YRrhKtYWh4ny",
        "colab_type": "code",
        "colab": {
          "base_uri": "https://localhost:8080/",
          "height": 34
        },
        "outputId": "5f94c681-390e-4ba2-c9a3-b5930d301153"
      },
      "source": [
        "(1,4,9,16,25)"
      ],
      "execution_count": 1,
      "outputs": [
        {
          "output_type": "execute_result",
          "data": {
            "text/plain": [
              "(1, 4, 9, 16, 25)"
            ]
          },
          "metadata": {
            "tags": []
          },
          "execution_count": 1
        }
      ]
    },
    {
      "cell_type": "markdown",
      "metadata": {
        "id": "JRc7jFZ1ZfBh",
        "colab_type": "text"
      },
      "source": [
        "# 補足 Pythonの公式な言語リファレンス\n",
        "\n",
        "* 公式なマニュアルはこちらですが、内容は難しいので最初はわかりやすい情報や、本などを参考にしましょう。\n",
        "* 英語\n",
        " * https://docs.python.org/3/reference/index.html\n",
        "* 日本語\n",
        " * https://docs.python.org/ja/3/reference/index.html"
      ]
    }
  ]
}